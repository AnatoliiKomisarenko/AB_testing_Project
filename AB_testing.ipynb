{
 "cells": [
  {
   "cell_type": "markdown",
   "metadata": {},
   "source": [
    "# Анализ маркетинговых гипотез"
   ]
  },
  {
   "cell_type": "markdown",
   "metadata": {},
   "source": [
    "## Описание проекта\n",
    "Отдел маркетинга интернет-магазина подготовили список гипотез для увеличения выручки.\n",
    "\n",
    "### Цень: Приоритизировать гипотезы и запустить A/B-тест. "
   ]
  },
  {
   "cell_type": "code",
   "execution_count": 1,
   "metadata": {},
   "outputs": [],
   "source": [
    "#libraries\n",
    "import pandas as pd\n",
    "import numpy as np\n",
    "import matplotlib.pyplot as plt\n",
    "import seaborn as sns\n",
    "from scipy.stats import mannwhitneyu"
   ]
  },
  {
   "cell_type": "markdown",
   "metadata": {},
   "source": [
    "### Часть 1. Приоритизация гипотез.\n",
    "\n",
    "Задачи:\n",
    "1. Загрузить файл.\n",
    "2. Применить фреймворк ICE для приоритизации гипотез.\n",
    "3. Применить фреймворк RICE для приоритизации гипотез."
   ]
  },
  {
   "cell_type": "code",
   "execution_count": 2,
   "metadata": {},
   "outputs": [
    {
     "data": {
      "text/html": [
       "<div>\n",
       "<style scoped>\n",
       "    .dataframe tbody tr th:only-of-type {\n",
       "        vertical-align: middle;\n",
       "    }\n",
       "\n",
       "    .dataframe tbody tr th {\n",
       "        vertical-align: top;\n",
       "    }\n",
       "\n",
       "    .dataframe thead th {\n",
       "        text-align: right;\n",
       "    }\n",
       "</style>\n",
       "<table border=\"1\" class=\"dataframe\">\n",
       "  <thead>\n",
       "    <tr style=\"text-align: right;\">\n",
       "      <th></th>\n",
       "      <th>Hypothesis</th>\n",
       "      <th>Reach</th>\n",
       "      <th>Impact</th>\n",
       "      <th>Confidence</th>\n",
       "      <th>Efforts</th>\n",
       "    </tr>\n",
       "  </thead>\n",
       "  <tbody>\n",
       "    <tr>\n",
       "      <th>0</th>\n",
       "      <td>Добавить два новых канала привлечения трафика,...</td>\n",
       "      <td>3</td>\n",
       "      <td>10</td>\n",
       "      <td>8</td>\n",
       "      <td>6</td>\n",
       "    </tr>\n",
       "    <tr>\n",
       "      <th>1</th>\n",
       "      <td>Запустить собственную службу доставки, что сок...</td>\n",
       "      <td>2</td>\n",
       "      <td>5</td>\n",
       "      <td>4</td>\n",
       "      <td>10</td>\n",
       "    </tr>\n",
       "    <tr>\n",
       "      <th>2</th>\n",
       "      <td>Добавить блоки рекомендаций товаров на сайт ин...</td>\n",
       "      <td>8</td>\n",
       "      <td>3</td>\n",
       "      <td>7</td>\n",
       "      <td>3</td>\n",
       "    </tr>\n",
       "    <tr>\n",
       "      <th>3</th>\n",
       "      <td>Изменить структура категорий, что увеличит кон...</td>\n",
       "      <td>8</td>\n",
       "      <td>3</td>\n",
       "      <td>3</td>\n",
       "      <td>8</td>\n",
       "    </tr>\n",
       "    <tr>\n",
       "      <th>4</th>\n",
       "      <td>Изменить цвет фона главной страницы, чтобы уве...</td>\n",
       "      <td>3</td>\n",
       "      <td>1</td>\n",
       "      <td>1</td>\n",
       "      <td>1</td>\n",
       "    </tr>\n",
       "    <tr>\n",
       "      <th>5</th>\n",
       "      <td>Добавить страницу отзывов клиентов о магазине,...</td>\n",
       "      <td>3</td>\n",
       "      <td>2</td>\n",
       "      <td>2</td>\n",
       "      <td>3</td>\n",
       "    </tr>\n",
       "    <tr>\n",
       "      <th>6</th>\n",
       "      <td>Показать на главной странице баннеры с актуаль...</td>\n",
       "      <td>5</td>\n",
       "      <td>3</td>\n",
       "      <td>8</td>\n",
       "      <td>3</td>\n",
       "    </tr>\n",
       "    <tr>\n",
       "      <th>7</th>\n",
       "      <td>Добавить форму подписки на все основные страни...</td>\n",
       "      <td>10</td>\n",
       "      <td>7</td>\n",
       "      <td>8</td>\n",
       "      <td>5</td>\n",
       "    </tr>\n",
       "    <tr>\n",
       "      <th>8</th>\n",
       "      <td>Запустить акцию, дающую скидку на товар в день...</td>\n",
       "      <td>1</td>\n",
       "      <td>9</td>\n",
       "      <td>9</td>\n",
       "      <td>5</td>\n",
       "    </tr>\n",
       "  </tbody>\n",
       "</table>\n",
       "</div>"
      ],
      "text/plain": [
       "                                          Hypothesis  Reach  Impact  \\\n",
       "0  Добавить два новых канала привлечения трафика,...      3      10   \n",
       "1  Запустить собственную службу доставки, что сок...      2       5   \n",
       "2  Добавить блоки рекомендаций товаров на сайт ин...      8       3   \n",
       "3  Изменить структура категорий, что увеличит кон...      8       3   \n",
       "4  Изменить цвет фона главной страницы, чтобы уве...      3       1   \n",
       "5  Добавить страницу отзывов клиентов о магазине,...      3       2   \n",
       "6  Показать на главной странице баннеры с актуаль...      5       3   \n",
       "7  Добавить форму подписки на все основные страни...     10       7   \n",
       "8  Запустить акцию, дающую скидку на товар в день...      1       9   \n",
       "\n",
       "   Confidence  Efforts  \n",
       "0           8        6  \n",
       "1           4       10  \n",
       "2           7        3  \n",
       "3           3        8  \n",
       "4           1        1  \n",
       "5           2        3  \n",
       "6           8        3  \n",
       "7           8        5  \n",
       "8           9        5  "
      ]
     },
     "execution_count": 2,
     "metadata": {},
     "output_type": "execute_result"
    }
   ],
   "source": [
    "#Загрузка и просмотр датасета для 1 части\n",
    "df1 = pd.read_csv('/datasets/hypothesis.csv')\n",
    "df1"
   ]
  },
  {
   "cell_type": "code",
   "execution_count": 3,
   "metadata": {},
   "outputs": [],
   "source": [
    "#df1.info()"
   ]
  },
  {
   "cell_type": "code",
   "execution_count": 4,
   "metadata": {},
   "outputs": [],
   "source": [
    "#df1.duplicated().sum()"
   ]
  },
  {
   "cell_type": "markdown",
   "metadata": {},
   "source": [
    "=> Пропусков и дубликатов нет, видо без дополнительной проверки, так как мало строк."
   ]
  },
  {
   "cell_type": "code",
   "execution_count": 5,
   "metadata": {},
   "outputs": [
    {
     "data": {
      "text/html": [
       "<div>\n",
       "<style scoped>\n",
       "    .dataframe tbody tr th:only-of-type {\n",
       "        vertical-align: middle;\n",
       "    }\n",
       "\n",
       "    .dataframe tbody tr th {\n",
       "        vertical-align: top;\n",
       "    }\n",
       "\n",
       "    .dataframe thead th {\n",
       "        text-align: right;\n",
       "    }\n",
       "</style>\n",
       "<table border=\"1\" class=\"dataframe\">\n",
       "  <thead>\n",
       "    <tr style=\"text-align: right;\">\n",
       "      <th></th>\n",
       "      <th>Hypothesis</th>\n",
       "      <th>Reach</th>\n",
       "      <th>Impact</th>\n",
       "      <th>Confidence</th>\n",
       "      <th>Efforts</th>\n",
       "      <th>ICE</th>\n",
       "    </tr>\n",
       "  </thead>\n",
       "  <tbody>\n",
       "    <tr>\n",
       "      <th>8</th>\n",
       "      <td>Запустить акцию, дающую скидку на товар в день...</td>\n",
       "      <td>1</td>\n",
       "      <td>9</td>\n",
       "      <td>9</td>\n",
       "      <td>5</td>\n",
       "      <td>16.2</td>\n",
       "    </tr>\n",
       "    <tr>\n",
       "      <th>0</th>\n",
       "      <td>Добавить два новых канала привлечения трафика,...</td>\n",
       "      <td>3</td>\n",
       "      <td>10</td>\n",
       "      <td>8</td>\n",
       "      <td>6</td>\n",
       "      <td>13.3</td>\n",
       "    </tr>\n",
       "    <tr>\n",
       "      <th>7</th>\n",
       "      <td>Добавить форму подписки на все основные страни...</td>\n",
       "      <td>10</td>\n",
       "      <td>7</td>\n",
       "      <td>8</td>\n",
       "      <td>5</td>\n",
       "      <td>11.2</td>\n",
       "    </tr>\n",
       "    <tr>\n",
       "      <th>6</th>\n",
       "      <td>Показать на главной странице баннеры с актуаль...</td>\n",
       "      <td>5</td>\n",
       "      <td>3</td>\n",
       "      <td>8</td>\n",
       "      <td>3</td>\n",
       "      <td>8.0</td>\n",
       "    </tr>\n",
       "    <tr>\n",
       "      <th>2</th>\n",
       "      <td>Добавить блоки рекомендаций товаров на сайт ин...</td>\n",
       "      <td>8</td>\n",
       "      <td>3</td>\n",
       "      <td>7</td>\n",
       "      <td>3</td>\n",
       "      <td>7.0</td>\n",
       "    </tr>\n",
       "    <tr>\n",
       "      <th>1</th>\n",
       "      <td>Запустить собственную службу доставки, что сок...</td>\n",
       "      <td>2</td>\n",
       "      <td>5</td>\n",
       "      <td>4</td>\n",
       "      <td>10</td>\n",
       "      <td>2.0</td>\n",
       "    </tr>\n",
       "    <tr>\n",
       "      <th>5</th>\n",
       "      <td>Добавить страницу отзывов клиентов о магазине,...</td>\n",
       "      <td>3</td>\n",
       "      <td>2</td>\n",
       "      <td>2</td>\n",
       "      <td>3</td>\n",
       "      <td>1.3</td>\n",
       "    </tr>\n",
       "    <tr>\n",
       "      <th>3</th>\n",
       "      <td>Изменить структура категорий, что увеличит кон...</td>\n",
       "      <td>8</td>\n",
       "      <td>3</td>\n",
       "      <td>3</td>\n",
       "      <td>8</td>\n",
       "      <td>1.1</td>\n",
       "    </tr>\n",
       "    <tr>\n",
       "      <th>4</th>\n",
       "      <td>Изменить цвет фона главной страницы, чтобы уве...</td>\n",
       "      <td>3</td>\n",
       "      <td>1</td>\n",
       "      <td>1</td>\n",
       "      <td>1</td>\n",
       "      <td>1.0</td>\n",
       "    </tr>\n",
       "  </tbody>\n",
       "</table>\n",
       "</div>"
      ],
      "text/plain": [
       "                                          Hypothesis  Reach  Impact  \\\n",
       "8  Запустить акцию, дающую скидку на товар в день...      1       9   \n",
       "0  Добавить два новых канала привлечения трафика,...      3      10   \n",
       "7  Добавить форму подписки на все основные страни...     10       7   \n",
       "6  Показать на главной странице баннеры с актуаль...      5       3   \n",
       "2  Добавить блоки рекомендаций товаров на сайт ин...      8       3   \n",
       "1  Запустить собственную службу доставки, что сок...      2       5   \n",
       "5  Добавить страницу отзывов клиентов о магазине,...      3       2   \n",
       "3  Изменить структура категорий, что увеличит кон...      8       3   \n",
       "4  Изменить цвет фона главной страницы, чтобы уве...      3       1   \n",
       "\n",
       "   Confidence  Efforts   ICE  \n",
       "8           9        5  16.2  \n",
       "0           8        6  13.3  \n",
       "7           8        5  11.2  \n",
       "6           8        3   8.0  \n",
       "2           7        3   7.0  \n",
       "1           4       10   2.0  \n",
       "5           2        3   1.3  \n",
       "3           3        8   1.1  \n",
       "4           1        1   1.0  "
      ]
     },
     "execution_count": 5,
     "metadata": {},
     "output_type": "execute_result"
    }
   ],
   "source": [
    "#Расчет ICE\n",
    "df1['ICE'] = round((df1['Impact'] * df1['Confidence'])/df1['Efforts'], 1)\n",
    "df1.sort_values(by='ICE', ascending=False)"
   ]
  },
  {
   "cell_type": "code",
   "execution_count": 6,
   "metadata": {},
   "outputs": [],
   "source": [
    "pd.set_option(\"display.max_colwidth\", 400)"
   ]
  },
  {
   "cell_type": "code",
   "execution_count": 7,
   "metadata": {},
   "outputs": [
    {
     "data": {
      "text/html": [
       "<div>\n",
       "<style scoped>\n",
       "    .dataframe tbody tr th:only-of-type {\n",
       "        vertical-align: middle;\n",
       "    }\n",
       "\n",
       "    .dataframe tbody tr th {\n",
       "        vertical-align: top;\n",
       "    }\n",
       "\n",
       "    .dataframe thead th {\n",
       "        text-align: right;\n",
       "    }\n",
       "</style>\n",
       "<table border=\"1\" class=\"dataframe\">\n",
       "  <thead>\n",
       "    <tr style=\"text-align: right;\">\n",
       "      <th></th>\n",
       "      <th>Hypothesis</th>\n",
       "      <th>Reach</th>\n",
       "      <th>Impact</th>\n",
       "      <th>Confidence</th>\n",
       "      <th>Efforts</th>\n",
       "      <th>ICE</th>\n",
       "    </tr>\n",
       "  </thead>\n",
       "  <tbody>\n",
       "    <tr>\n",
       "      <th>8</th>\n",
       "      <td>Запустить акцию, дающую скидку на товар в день рождения</td>\n",
       "      <td>1</td>\n",
       "      <td>9</td>\n",
       "      <td>9</td>\n",
       "      <td>5</td>\n",
       "      <td>16.2</td>\n",
       "    </tr>\n",
       "    <tr>\n",
       "      <th>0</th>\n",
       "      <td>Добавить два новых канала привлечения трафика, что позволит привлекать на 30% больше пользователей</td>\n",
       "      <td>3</td>\n",
       "      <td>10</td>\n",
       "      <td>8</td>\n",
       "      <td>6</td>\n",
       "      <td>13.3</td>\n",
       "    </tr>\n",
       "    <tr>\n",
       "      <th>7</th>\n",
       "      <td>Добавить форму подписки на все основные страницы, чтобы собрать базу клиентов для email-рассылок</td>\n",
       "      <td>10</td>\n",
       "      <td>7</td>\n",
       "      <td>8</td>\n",
       "      <td>5</td>\n",
       "      <td>11.2</td>\n",
       "    </tr>\n",
       "    <tr>\n",
       "      <th>6</th>\n",
       "      <td>Показать на главной странице баннеры с актуальными акциями и распродажами, чтобы увеличить конверсию</td>\n",
       "      <td>5</td>\n",
       "      <td>3</td>\n",
       "      <td>8</td>\n",
       "      <td>3</td>\n",
       "      <td>8.0</td>\n",
       "    </tr>\n",
       "    <tr>\n",
       "      <th>2</th>\n",
       "      <td>Добавить блоки рекомендаций товаров на сайт интернет магазина, чтобы повысить конверсию и средний чек заказа</td>\n",
       "      <td>8</td>\n",
       "      <td>3</td>\n",
       "      <td>7</td>\n",
       "      <td>3</td>\n",
       "      <td>7.0</td>\n",
       "    </tr>\n",
       "    <tr>\n",
       "      <th>1</th>\n",
       "      <td>Запустить собственную службу доставки, что сократит срок доставки заказов</td>\n",
       "      <td>2</td>\n",
       "      <td>5</td>\n",
       "      <td>4</td>\n",
       "      <td>10</td>\n",
       "      <td>2.0</td>\n",
       "    </tr>\n",
       "    <tr>\n",
       "      <th>5</th>\n",
       "      <td>Добавить страницу отзывов клиентов о магазине, что позволит увеличить количество заказов</td>\n",
       "      <td>3</td>\n",
       "      <td>2</td>\n",
       "      <td>2</td>\n",
       "      <td>3</td>\n",
       "      <td>1.3</td>\n",
       "    </tr>\n",
       "    <tr>\n",
       "      <th>3</th>\n",
       "      <td>Изменить структура категорий, что увеличит конверсию, т.к. пользователи быстрее найдут нужный товар</td>\n",
       "      <td>8</td>\n",
       "      <td>3</td>\n",
       "      <td>3</td>\n",
       "      <td>8</td>\n",
       "      <td>1.1</td>\n",
       "    </tr>\n",
       "    <tr>\n",
       "      <th>4</th>\n",
       "      <td>Изменить цвет фона главной страницы, чтобы увеличить вовлеченность пользователей</td>\n",
       "      <td>3</td>\n",
       "      <td>1</td>\n",
       "      <td>1</td>\n",
       "      <td>1</td>\n",
       "      <td>1.0</td>\n",
       "    </tr>\n",
       "  </tbody>\n",
       "</table>\n",
       "</div>"
      ],
      "text/plain": [
       "                                                                                                     Hypothesis  \\\n",
       "8                                                       Запустить акцию, дающую скидку на товар в день рождения   \n",
       "0            Добавить два новых канала привлечения трафика, что позволит привлекать на 30% больше пользователей   \n",
       "7              Добавить форму подписки на все основные страницы, чтобы собрать базу клиентов для email-рассылок   \n",
       "6          Показать на главной странице баннеры с актуальными акциями и распродажами, чтобы увеличить конверсию   \n",
       "2  Добавить блоки рекомендаций товаров на сайт интернет магазина, чтобы повысить конверсию и средний чек заказа   \n",
       "1                                     Запустить собственную службу доставки, что сократит срок доставки заказов   \n",
       "5                      Добавить страницу отзывов клиентов о магазине, что позволит увеличить количество заказов   \n",
       "3           Изменить структура категорий, что увеличит конверсию, т.к. пользователи быстрее найдут нужный товар   \n",
       "4                              Изменить цвет фона главной страницы, чтобы увеличить вовлеченность пользователей   \n",
       "\n",
       "   Reach  Impact  Confidence  Efforts   ICE  \n",
       "8      1       9           9        5  16.2  \n",
       "0      3      10           8        6  13.3  \n",
       "7     10       7           8        5  11.2  \n",
       "6      5       3           8        3   8.0  \n",
       "2      8       3           7        3   7.0  \n",
       "1      2       5           4       10   2.0  \n",
       "5      3       2           2        3   1.3  \n",
       "3      8       3           3        8   1.1  \n",
       "4      3       1           1        1   1.0  "
      ]
     },
     "metadata": {},
     "output_type": "display_data"
    }
   ],
   "source": [
    "display(df1.sort_values(by='ICE', ascending=False))"
   ]
  },
  {
   "cell_type": "markdown",
   "metadata": {},
   "source": [
    "=> Гипотеза с запуском акции получила наивысшую иценку, а изменения цвета фона наименьшую."
   ]
  },
  {
   "cell_type": "code",
   "execution_count": 8,
   "metadata": {},
   "outputs": [
    {
     "data": {
      "text/html": [
       "<div>\n",
       "<style scoped>\n",
       "    .dataframe tbody tr th:only-of-type {\n",
       "        vertical-align: middle;\n",
       "    }\n",
       "\n",
       "    .dataframe tbody tr th {\n",
       "        vertical-align: top;\n",
       "    }\n",
       "\n",
       "    .dataframe thead th {\n",
       "        text-align: right;\n",
       "    }\n",
       "</style>\n",
       "<table border=\"1\" class=\"dataframe\">\n",
       "  <thead>\n",
       "    <tr style=\"text-align: right;\">\n",
       "      <th></th>\n",
       "      <th>Hypothesis</th>\n",
       "      <th>Reach</th>\n",
       "      <th>Impact</th>\n",
       "      <th>Confidence</th>\n",
       "      <th>Efforts</th>\n",
       "      <th>ICE</th>\n",
       "      <th>RICE</th>\n",
       "    </tr>\n",
       "  </thead>\n",
       "  <tbody>\n",
       "    <tr>\n",
       "      <th>7</th>\n",
       "      <td>Добавить форму подписки на все основные страницы, чтобы собрать базу клиентов для email-рассылок</td>\n",
       "      <td>10</td>\n",
       "      <td>7</td>\n",
       "      <td>8</td>\n",
       "      <td>5</td>\n",
       "      <td>11.2</td>\n",
       "      <td>112.0</td>\n",
       "    </tr>\n",
       "    <tr>\n",
       "      <th>2</th>\n",
       "      <td>Добавить блоки рекомендаций товаров на сайт интернет магазина, чтобы повысить конверсию и средний чек заказа</td>\n",
       "      <td>8</td>\n",
       "      <td>3</td>\n",
       "      <td>7</td>\n",
       "      <td>3</td>\n",
       "      <td>7.0</td>\n",
       "      <td>56.0</td>\n",
       "    </tr>\n",
       "    <tr>\n",
       "      <th>0</th>\n",
       "      <td>Добавить два новых канала привлечения трафика, что позволит привлекать на 30% больше пользователей</td>\n",
       "      <td>3</td>\n",
       "      <td>10</td>\n",
       "      <td>8</td>\n",
       "      <td>6</td>\n",
       "      <td>13.3</td>\n",
       "      <td>40.0</td>\n",
       "    </tr>\n",
       "    <tr>\n",
       "      <th>6</th>\n",
       "      <td>Показать на главной странице баннеры с актуальными акциями и распродажами, чтобы увеличить конверсию</td>\n",
       "      <td>5</td>\n",
       "      <td>3</td>\n",
       "      <td>8</td>\n",
       "      <td>3</td>\n",
       "      <td>8.0</td>\n",
       "      <td>40.0</td>\n",
       "    </tr>\n",
       "    <tr>\n",
       "      <th>8</th>\n",
       "      <td>Запустить акцию, дающую скидку на товар в день рождения</td>\n",
       "      <td>1</td>\n",
       "      <td>9</td>\n",
       "      <td>9</td>\n",
       "      <td>5</td>\n",
       "      <td>16.2</td>\n",
       "      <td>16.2</td>\n",
       "    </tr>\n",
       "    <tr>\n",
       "      <th>3</th>\n",
       "      <td>Изменить структура категорий, что увеличит конверсию, т.к. пользователи быстрее найдут нужный товар</td>\n",
       "      <td>8</td>\n",
       "      <td>3</td>\n",
       "      <td>3</td>\n",
       "      <td>8</td>\n",
       "      <td>1.1</td>\n",
       "      <td>9.0</td>\n",
       "    </tr>\n",
       "    <tr>\n",
       "      <th>1</th>\n",
       "      <td>Запустить собственную службу доставки, что сократит срок доставки заказов</td>\n",
       "      <td>2</td>\n",
       "      <td>5</td>\n",
       "      <td>4</td>\n",
       "      <td>10</td>\n",
       "      <td>2.0</td>\n",
       "      <td>4.0</td>\n",
       "    </tr>\n",
       "    <tr>\n",
       "      <th>5</th>\n",
       "      <td>Добавить страницу отзывов клиентов о магазине, что позволит увеличить количество заказов</td>\n",
       "      <td>3</td>\n",
       "      <td>2</td>\n",
       "      <td>2</td>\n",
       "      <td>3</td>\n",
       "      <td>1.3</td>\n",
       "      <td>4.0</td>\n",
       "    </tr>\n",
       "    <tr>\n",
       "      <th>4</th>\n",
       "      <td>Изменить цвет фона главной страницы, чтобы увеличить вовлеченность пользователей</td>\n",
       "      <td>3</td>\n",
       "      <td>1</td>\n",
       "      <td>1</td>\n",
       "      <td>1</td>\n",
       "      <td>1.0</td>\n",
       "      <td>3.0</td>\n",
       "    </tr>\n",
       "  </tbody>\n",
       "</table>\n",
       "</div>"
      ],
      "text/plain": [
       "                                                                                                     Hypothesis  \\\n",
       "7              Добавить форму подписки на все основные страницы, чтобы собрать базу клиентов для email-рассылок   \n",
       "2  Добавить блоки рекомендаций товаров на сайт интернет магазина, чтобы повысить конверсию и средний чек заказа   \n",
       "0            Добавить два новых канала привлечения трафика, что позволит привлекать на 30% больше пользователей   \n",
       "6          Показать на главной странице баннеры с актуальными акциями и распродажами, чтобы увеличить конверсию   \n",
       "8                                                       Запустить акцию, дающую скидку на товар в день рождения   \n",
       "3           Изменить структура категорий, что увеличит конверсию, т.к. пользователи быстрее найдут нужный товар   \n",
       "1                                     Запустить собственную службу доставки, что сократит срок доставки заказов   \n",
       "5                      Добавить страницу отзывов клиентов о магазине, что позволит увеличить количество заказов   \n",
       "4                              Изменить цвет фона главной страницы, чтобы увеличить вовлеченность пользователей   \n",
       "\n",
       "   Reach  Impact  Confidence  Efforts   ICE   RICE  \n",
       "7     10       7           8        5  11.2  112.0  \n",
       "2      8       3           7        3   7.0   56.0  \n",
       "0      3      10           8        6  13.3   40.0  \n",
       "6      5       3           8        3   8.0   40.0  \n",
       "8      1       9           9        5  16.2   16.2  \n",
       "3      8       3           3        8   1.1    9.0  \n",
       "1      2       5           4       10   2.0    4.0  \n",
       "5      3       2           2        3   1.3    4.0  \n",
       "4      3       1           1        1   1.0    3.0  "
      ]
     },
     "execution_count": 8,
     "metadata": {},
     "output_type": "execute_result"
    }
   ],
   "source": [
    "#Расчет RICE\n",
    "df1['RICE'] = (df1['Reach'] * df1['Impact'] * df1['Confidence'])/df1['Efforts']\n",
    "df1.sort_values(by='RICE', ascending=False)"
   ]
  },
  {
   "cell_type": "markdown",
   "metadata": {},
   "source": [
    "=> Гипотеза с добавлением подписки получила наивысшую иценку, а изменения цвета фона также осталась с наименьшей оценктой."
   ]
  },
  {
   "cell_type": "markdown",
   "metadata": {},
   "source": [
    "=> Использование Reach в RICE позволяет учитывать, насколько большая аудитория будет затронута изменениями. Это приводит к тому, что гипотезы с высоким охватом могут подняться в приоритете даже при умеренном влиянии."
   ]
  },
  {
   "cell_type": "markdown",
   "metadata": {},
   "source": [
    "### Часть 2. Анализ A/B-теста"
   ]
  },
  {
   "cell_type": "code",
   "execution_count": 9,
   "metadata": {},
   "outputs": [
    {
     "data": {
      "text/html": [
       "<div>\n",
       "<style scoped>\n",
       "    .dataframe tbody tr th:only-of-type {\n",
       "        vertical-align: middle;\n",
       "    }\n",
       "\n",
       "    .dataframe tbody tr th {\n",
       "        vertical-align: top;\n",
       "    }\n",
       "\n",
       "    .dataframe thead th {\n",
       "        text-align: right;\n",
       "    }\n",
       "</style>\n",
       "<table border=\"1\" class=\"dataframe\">\n",
       "  <thead>\n",
       "    <tr style=\"text-align: right;\">\n",
       "      <th></th>\n",
       "      <th>transactionId</th>\n",
       "      <th>visitorId</th>\n",
       "      <th>date</th>\n",
       "      <th>revenue</th>\n",
       "      <th>group</th>\n",
       "    </tr>\n",
       "  </thead>\n",
       "  <tbody>\n",
       "    <tr>\n",
       "      <th>575</th>\n",
       "      <td>212815314</td>\n",
       "      <td>2054014923</td>\n",
       "      <td>2019-08-04</td>\n",
       "      <td>5249</td>\n",
       "      <td>A</td>\n",
       "    </tr>\n",
       "    <tr>\n",
       "      <th>257</th>\n",
       "      <td>225225498</td>\n",
       "      <td>2308309101</td>\n",
       "      <td>2019-08-23</td>\n",
       "      <td>14271</td>\n",
       "      <td>A</td>\n",
       "    </tr>\n",
       "    <tr>\n",
       "      <th>640</th>\n",
       "      <td>3730164576</td>\n",
       "      <td>1476741193</td>\n",
       "      <td>2019-08-04</td>\n",
       "      <td>15485</td>\n",
       "      <td>B</td>\n",
       "    </tr>\n",
       "    <tr>\n",
       "      <th>839</th>\n",
       "      <td>2368020497</td>\n",
       "      <td>2870367609</td>\n",
       "      <td>2019-08-21</td>\n",
       "      <td>1410</td>\n",
       "      <td>B</td>\n",
       "    </tr>\n",
       "    <tr>\n",
       "      <th>430</th>\n",
       "      <td>1168756094</td>\n",
       "      <td>3202540741</td>\n",
       "      <td>2019-08-24</td>\n",
       "      <td>3150</td>\n",
       "      <td>A</td>\n",
       "    </tr>\n",
       "  </tbody>\n",
       "</table>\n",
       "</div>"
      ],
      "text/plain": [
       "     transactionId   visitorId        date  revenue group\n",
       "575      212815314  2054014923  2019-08-04     5249     A\n",
       "257      225225498  2308309101  2019-08-23    14271     A\n",
       "640     3730164576  1476741193  2019-08-04    15485     B\n",
       "839     2368020497  2870367609  2019-08-21     1410     B\n",
       "430     1168756094  3202540741  2019-08-24     3150     A"
      ]
     },
     "execution_count": 9,
     "metadata": {},
     "output_type": "execute_result"
    }
   ],
   "source": [
    "#Загрузка и просмотр датасета для 2 части\n",
    "orders = pd.read_csv('/datasets/orders.csv')\n",
    "orders.sample(5)"
   ]
  },
  {
   "cell_type": "code",
   "execution_count": 10,
   "metadata": {},
   "outputs": [
    {
     "name": "stdout",
     "output_type": "stream",
     "text": [
      "<class 'pandas.core.frame.DataFrame'>\n",
      "RangeIndex: 1197 entries, 0 to 1196\n",
      "Data columns (total 5 columns):\n",
      " #   Column         Non-Null Count  Dtype \n",
      "---  ------         --------------  ----- \n",
      " 0   transactionId  1197 non-null   int64 \n",
      " 1   visitorId      1197 non-null   int64 \n",
      " 2   date           1197 non-null   object\n",
      " 3   revenue        1197 non-null   int64 \n",
      " 4   group          1197 non-null   object\n",
      "dtypes: int64(3), object(2)\n",
      "memory usage: 46.9+ KB\n"
     ]
    }
   ],
   "source": [
    "orders.info()"
   ]
  },
  {
   "cell_type": "code",
   "execution_count": 11,
   "metadata": {},
   "outputs": [
    {
     "data": {
      "text/plain": [
       "0"
      ]
     },
     "execution_count": 11,
     "metadata": {},
     "output_type": "execute_result"
    }
   ],
   "source": [
    "orders.duplicated().sum()"
   ]
  },
  {
   "cell_type": "markdown",
   "metadata": {},
   "source": [
    "=> Пропусков и дубликатов нет"
   ]
  },
  {
   "cell_type": "code",
   "execution_count": 12,
   "metadata": {},
   "outputs": [
    {
     "data": {
      "text/html": [
       "<div>\n",
       "<style scoped>\n",
       "    .dataframe tbody tr th:only-of-type {\n",
       "        vertical-align: middle;\n",
       "    }\n",
       "\n",
       "    .dataframe tbody tr th {\n",
       "        vertical-align: top;\n",
       "    }\n",
       "\n",
       "    .dataframe thead th {\n",
       "        text-align: right;\n",
       "    }\n",
       "</style>\n",
       "<table border=\"1\" class=\"dataframe\">\n",
       "  <thead>\n",
       "    <tr style=\"text-align: right;\">\n",
       "      <th></th>\n",
       "      <th>date</th>\n",
       "      <th>group</th>\n",
       "      <th>visitors</th>\n",
       "    </tr>\n",
       "  </thead>\n",
       "  <tbody>\n",
       "    <tr>\n",
       "      <th>56</th>\n",
       "      <td>2019-08-26</td>\n",
       "      <td>B</td>\n",
       "      <td>676</td>\n",
       "    </tr>\n",
       "    <tr>\n",
       "      <th>25</th>\n",
       "      <td>2019-08-26</td>\n",
       "      <td>A</td>\n",
       "      <td>722</td>\n",
       "    </tr>\n",
       "    <tr>\n",
       "      <th>44</th>\n",
       "      <td>2019-08-14</td>\n",
       "      <td>B</td>\n",
       "      <td>746</td>\n",
       "    </tr>\n",
       "    <tr>\n",
       "      <th>13</th>\n",
       "      <td>2019-08-14</td>\n",
       "      <td>A</td>\n",
       "      <td>735</td>\n",
       "    </tr>\n",
       "    <tr>\n",
       "      <th>37</th>\n",
       "      <td>2019-08-07</td>\n",
       "      <td>B</td>\n",
       "      <td>709</td>\n",
       "    </tr>\n",
       "  </tbody>\n",
       "</table>\n",
       "</div>"
      ],
      "text/plain": [
       "          date group  visitors\n",
       "56  2019-08-26     B       676\n",
       "25  2019-08-26     A       722\n",
       "44  2019-08-14     B       746\n",
       "13  2019-08-14     A       735\n",
       "37  2019-08-07     B       709"
      ]
     },
     "execution_count": 12,
     "metadata": {},
     "output_type": "execute_result"
    }
   ],
   "source": [
    "visitors = pd.read_csv('/datasets/visitors.csv')\n",
    "visitors.sample(5)"
   ]
  },
  {
   "cell_type": "code",
   "execution_count": 13,
   "metadata": {},
   "outputs": [
    {
     "name": "stdout",
     "output_type": "stream",
     "text": [
      "<class 'pandas.core.frame.DataFrame'>\n",
      "RangeIndex: 62 entries, 0 to 61\n",
      "Data columns (total 3 columns):\n",
      " #   Column    Non-Null Count  Dtype \n",
      "---  ------    --------------  ----- \n",
      " 0   date      62 non-null     object\n",
      " 1   group     62 non-null     object\n",
      " 2   visitors  62 non-null     int64 \n",
      "dtypes: int64(1), object(2)\n",
      "memory usage: 1.6+ KB\n"
     ]
    }
   ],
   "source": [
    "visitors.info()"
   ]
  },
  {
   "cell_type": "code",
   "execution_count": 14,
   "metadata": {},
   "outputs": [
    {
     "data": {
      "text/plain": [
       "0"
      ]
     },
     "execution_count": 14,
     "metadata": {},
     "output_type": "execute_result"
    }
   ],
   "source": [
    "visitors.duplicated().sum()"
   ]
  },
  {
   "cell_type": "markdown",
   "metadata": {},
   "source": [
    "=> Пропусков и дубликатов нет"
   ]
  },
  {
   "cell_type": "code",
   "execution_count": 15,
   "metadata": {},
   "outputs": [
    {
     "name": "stdout",
     "output_type": "stream",
     "text": [
      "Найдено 58 пользователей, присутствующих в обеих группах.\n",
      "Процент пользователей, находящихся в обеих группах: 5.63%\n",
      "Рекомендуется удалить этих пользователей из анализа для повышения точности результатов A/B-теста.\n"
     ]
    }
   ],
   "source": [
    "# Находим пользователей, присутствующих в обеих группах\n",
    "users_in_both_groups = orders.groupby('visitorId')['group'].nunique()\n",
    "users_with_issues = users_in_both_groups[users_in_both_groups > 1].index\n",
    "\n",
    "# Выводим информацию о таких пользователях\n",
    "if len(users_with_issues) > 0:\n",
    "    print(f\"Найдено {len(users_with_issues)} пользователей, присутствующих в обеих группах.\")\n",
    "else:\n",
    "    print(\"Не найдено пользователей, присутствующих в обеих группах.\")\n",
    "\n",
    "# Оцениваем процент таких пользователей от общего количества уникальных пользователей\n",
    "total_unique_users = orders['visitorId'].nunique()\n",
    "percentage_users_with_issues = len(users_with_issues) / total_unique_users * 100\n",
    "\n",
    "print(f\"Процент пользователей, находящихся в обеих группах: {percentage_users_with_issues:.2f}%\")\n",
    "\n",
    "# Стратегия обработки данных\n",
    "if percentage_users_with_issues > 1:  # Например, считаем значительным для значений больше 1%\n",
    "    print(\"Рекомендуется удалить этих пользователей из анализа для повышения точности результатов A/B-теста.\")\n",
    "    orders = orders[~orders['visitorId'].isin(users_with_issues)]\n",
    "else:\n",
    "    print(\"Процент пересекающихся пользователей невелик, их влияние на результат минимально.\")\n",
    "    orders = orders"
   ]
  },
  {
   "cell_type": "code",
   "execution_count": null,
   "metadata": {},
   "outputs": [],
   "source": []
  },
  {
   "cell_type": "code",
   "execution_count": 16,
   "metadata": {},
   "outputs": [
    {
     "data": {
      "image/png": "[encoded data removed]",
      "text/plain": [
       "<Figure size 864x432 with 1 Axes>"
      ]
     },
     "metadata": {
      "needs_background": "light"
     },
     "output_type": "display_data"
    }
   ],
   "source": [
    "# График кумулятивной выручки по группам.\n",
    "# Приведение данных к нужному типу\n",
    "orders['date'] = pd.to_datetime(orders['date'])\n",
    "visitors['date'] = pd.to_datetime(visitors['date'])\n",
    "\n",
    "# Получение уникальных комбинаций даты и группы\n",
    "datesGroups = orders[['date', 'group']].drop_duplicates()\n",
    "\n",
    "# Агрегирование данных по заказам для кумулятивной выручки\n",
    "ordersAggregated = datesGroups.apply(\n",
    "    lambda x: orders[\n",
    "        (orders['date'] <= x['date']) & (orders['group'] == x['group'])\n",
    "    ].agg(\n",
    "        {\n",
    "            'date': 'max',\n",
    "            'group': 'max',\n",
    "            'transactionId': 'nunique',\n",
    "            'visitorId': 'nunique',\n",
    "            'revenue': 'sum',\n",
    "        }\n",
    "    ),\n",
    "    axis=1,\n",
    ").sort_values(by=['date', 'group'])\n",
    "\n",
    "# Разделение данных по группам\n",
    "cumulativeRevenueA = ordersAggregated[ordersAggregated['group'] == 'A']\n",
    "cumulativeRevenueB = ordersAggregated[ordersAggregated['group'] == 'B']\n",
    "\n",
    "# Визуализация кумулятивной выручки по группам\n",
    "plt.figure(figsize=(12, 6))\n",
    "sns.set_style(\"whitegrid\")\n",
    "\n",
    "plt.plot(\n",
    "    cumulativeRevenueA['date'],\n",
    "    cumulativeRevenueA['revenue'],\n",
    "    label='Кумулятивная выручка группы A',\n",
    "    color='blue'\n",
    ")\n",
    "\n",
    "plt.plot(\n",
    "    cumulativeRevenueB['date'],\n",
    "    cumulativeRevenueB['revenue'],\n",
    "    label='Кумулятивная выручка группы B',\n",
    "    color='orange'\n",
    ")\n",
    "\n",
    "plt.xlabel('Дата')\n",
    "plt.ylabel('Кумулятивная выручка')\n",
    "plt.title('Кумулятивная выручка по группам')\n",
    "plt.legend(loc='upper left')\n",
    "plt.xticks(rotation=45)\n",
    "plt.tight_layout()\n",
    "\n",
    "plt.show()"
   ]
  },
  {
   "cell_type": "markdown",
   "metadata": {},
   "source": [
    "=> Изменение в группе B могло позитивно сказаться на её показателях. Резкий рост также может быть связан с несколькими аномально высокими заказами, необходимо проверить данные на наличие выбросов."
   ]
  },
  {
   "cell_type": "code",
   "execution_count": 17,
   "metadata": {},
   "outputs": [
    {
     "data": {
      "image/png": "[encoded data removed]",
      "text/plain": [
       "<Figure size 864x432 with 1 Axes>"
      ]
     },
     "metadata": {},
     "output_type": "display_data"
    }
   ],
   "source": [
    "# График кумулятивного среднего чека по группам.\n",
    "# Агрегирование данных по заказам\n",
    "ordersAggregated = datesGroups.apply(\n",
    "    lambda x: orders[\n",
    "        (orders['date'] <= x['date']) & (orders['group'] == x['group'])\n",
    "    ].agg(\n",
    "        {\n",
    "            'date': 'max',\n",
    "            'group': 'max',\n",
    "            'transactionId': 'nunique',\n",
    "            'visitorId': 'nunique',\n",
    "            'revenue': 'sum'\n",
    "        }\n",
    "    ),\n",
    "    axis=1,\n",
    ").sort_values(by=['date', 'group'])\n",
    "\n",
    "# Расчет кумулятивного среднего чека\n",
    "ordersAggregated['average_check'] = (\n",
    "    ordersAggregated['revenue'] / ordersAggregated['transactionId']\n",
    ")\n",
    "\n",
    "# Разделение данных по группам\n",
    "cumulativeAverageCheckA = ordersAggregated[ordersAggregated['group'] == 'A']\n",
    "cumulativeAverageCheckB = ordersAggregated[ordersAggregated['group'] == 'B']\n",
    "\n",
    "# Визуализация кумулятивного среднего чека по группам\n",
    "plt.figure(figsize=(12, 6))\n",
    "sns.set_style(\"whitegrid\")\n",
    "\n",
    "plt.plot(\n",
    "    cumulativeAverageCheckA['date'],\n",
    "    cumulativeAverageCheckA['average_check'],\n",
    "    label='Кумулятивный средний чек группы A',\n",
    "    color='blue'\n",
    ")\n",
    "\n",
    "plt.plot(\n",
    "    cumulativeAverageCheckB['date'],\n",
    "    cumulativeAverageCheckB['average_check'],\n",
    "    label='Кумулятивный средний чек группы B',\n",
    "    color='orange'\n",
    ")\n",
    "\n",
    "plt.xlabel('Дата')\n",
    "plt.ylabel('Кумулятивный средний чек')\n",
    "plt.title('Кумулятивный средний чек по группам')\n",
    "plt.legend(loc='upper left')\n",
    "plt.xticks(rotation=45)\n",
    "plt.tight_layout()\n",
    "\n",
    "plt.show()"
   ]
  },
  {
   "cell_type": "markdown",
   "metadata": {},
   "source": [
    "=> Эксперимент в группе B может быть причиной изменения среднего чека. Резкий рост среднего чека также может быть вызван аномальными заказами. Необходимо провести очистку данных, чтобы проверить устойчивость этих изменений, так как подобный скачок может быть результатом одного или нескольких очень крупных заказов, что требует проверки данных на выбросы."
   ]
  },
  {
   "cell_type": "code",
   "execution_count": 18,
   "metadata": {},
   "outputs": [
    {
     "data": {
      "image/png": "[encoded data removed]",
      "text/plain": [
       "<Figure size 864x432 with 1 Axes>"
      ]
     },
     "metadata": {},
     "output_type": "display_data"
    }
   ],
   "source": [
    "# График относительного изменения кумулятивного среднего чека группы B к группе A\n",
    "# Агрегирование данных по заказам\n",
    "ordersAggregated = datesGroups.apply(\n",
    "    lambda x: orders[\n",
    "        (orders['date'] <= x['date']) & (orders['group'] == x['group'])\n",
    "    ].agg(\n",
    "        {\n",
    "            'date': 'max',\n",
    "            'group': 'max',\n",
    "            'transactionId': 'nunique',\n",
    "            'visitorId': 'nunique',\n",
    "            'revenue': 'sum'\n",
    "        }\n",
    "    ),\n",
    "    axis=1,\n",
    ").sort_values(by=['date', 'group'])\n",
    "\n",
    "# Расчет кумулятивного среднего чека\n",
    "ordersAggregated['average_check'] = (\n",
    "    ordersAggregated['revenue'] / ordersAggregated['transactionId']\n",
    ")\n",
    "\n",
    "# Разделение данных по группам\n",
    "cumulativeAverageCheckA = ordersAggregated[ordersAggregated['group'] == 'A']\n",
    "cumulativeAverageCheckB = ordersAggregated[ordersAggregated['group'] == 'B']\n",
    "\n",
    "# Объединение данных по среднему чеку\n",
    "mergedCumulativeAverageCheck = cumulativeAverageCheckA[['date', 'average_check']].merge(\n",
    "    cumulativeAverageCheckB[['date', 'average_check']],\n",
    "    on='date', \n",
    "    suffixes=['A', 'B']\n",
    ")\n",
    "\n",
    "# Визуализация относительного изменения кумулятивного среднего чека\n",
    "plt.figure(figsize=(12, 6))\n",
    "sns.set_style(\"whitegrid\")\n",
    "\n",
    "plt.plot(\n",
    "    mergedCumulativeAverageCheck['date'],\n",
    "    mergedCumulativeAverageCheck['average_checkB'] / mergedCumulativeAverageCheck['average_checkA'] - 1,\n",
    "    label=\"Относительное изменение среднего чека группы B к A\",\n",
    "    color='royalblue'\n",
    ")\n",
    "\n",
    "plt.axhline(y=0, color='black', linestyle='--', linewidth=1)\n",
    "plt.xlabel('Дата')\n",
    "plt.ylabel('Относительное изменение')\n",
    "plt.title('Относительное изменение кумулятивного среднего чека группы B к группе A')\n",
    "plt.legend(loc='upper left')\n",
    "plt.xticks(rotation=45)\n",
    "plt.tight_layout()\n",
    "\n",
    "plt.show()"
   ]
  },
  {
   "cell_type": "markdown",
   "metadata": {},
   "source": [
    "=> Эксперимент в группе B может мог повлиять на увеличение среднего чека. Резкий рост среднего чека также может быть вызван аномальными заказами. Важно проверить наличие внешних факторов или событий, повлиявших на обе группы, чтобы корректно интерпретировать изменения."
   ]
  },
  {
   "cell_type": "code",
   "execution_count": 19,
   "metadata": {},
   "outputs": [
    {
     "data": {
      "image/png": "[encoded data removed]",
      "text/plain": [
       "<Figure size 864x432 with 1 Axes>"
      ]
     },
     "metadata": {},
     "output_type": "display_data"
    }
   ],
   "source": [
    "# График кумулятивного среднего количества заказов на посетителя по группам\n",
    "# Агрегирование данных по заказам\n",
    "ordersAggregated = datesGroups.apply(\n",
    "    lambda x: orders[\n",
    "        (orders['date'] <= x['date']) & (orders['group'] == x['group'])\n",
    "    ].agg(\n",
    "        {\n",
    "            'date': 'max',\n",
    "            'group': 'max',\n",
    "            'transactionId': 'nunique'\n",
    "        }\n",
    "    ),\n",
    "    axis=1,\n",
    ").sort_values(by=['date', 'group'])\n",
    "\n",
    "# Агрегирование данных по посетителям\n",
    "visitorsAggregated = datesGroups.apply(\n",
    "    lambda x: visitors[\n",
    "        (visitors['date'] <= x['date']) & (visitors['group'] == x['group'])\n",
    "    ].agg(\n",
    "        {\n",
    "            'date': 'max',\n",
    "            'group': 'max',\n",
    "            'visitors': 'sum'\n",
    "        }\n",
    "    ),\n",
    "    axis=1,\n",
    ").sort_values(by=['date', 'group'])\n",
    "\n",
    "# Объединение агрегированных данных\n",
    "cumulativeData = ordersAggregated.merge(\n",
    "    visitorsAggregated, on=['date', 'group']\n",
    ")\n",
    "cumulativeData.columns = [\n",
    "    'date',\n",
    "    'group',\n",
    "    'orders',\n",
    "    'visitors',\n",
    "]\n",
    "\n",
    "# Расчет кумулятивного среднего количества заказов на посетителя\n",
    "cumulativeData['orders_per_visitor'] = (\n",
    "    cumulativeData['orders'] / cumulativeData['visitors']\n",
    ")\n",
    "\n",
    "# Разделение данных по группам\n",
    "cumulativeOrdersPerVisitorA = cumulativeData[cumulativeData['group'] == 'A']\n",
    "cumulativeOrdersPerVisitorB = cumulativeData[cumulativeData['group'] == 'B']\n",
    "\n",
    "# Визуализация кумулятивного среднего количества заказов на посетителя по группам\n",
    "plt.figure(figsize=(12, 6))\n",
    "sns.set_style(\"whitegrid\")\n",
    "\n",
    "plt.plot(\n",
    "    cumulativeOrdersPerVisitorA['date'],\n",
    "    cumulativeOrdersPerVisitorA['orders_per_visitor'],\n",
    "    label='Группа A',\n",
    "    color='blue'\n",
    ")\n",
    "\n",
    "plt.plot(\n",
    "    cumulativeOrdersPerVisitorB['date'],\n",
    "    cumulativeOrdersPerVisitorB['orders_per_visitor'],\n",
    "    label='Группа B',\n",
    "    color='orange'\n",
    ")\n",
    "\n",
    "plt.xlabel('Дата')\n",
    "plt.ylabel('Кумулятивное среднее количество заказов на посетителя')\n",
    "plt.title('Кумулятивное среднее количество заказов на посетителя по группам')\n",
    "plt.legend(loc='upper left')\n",
    "plt.xticks(rotation=45)\n",
    "plt.tight_layout()\n",
    "\n",
    "plt.show()"
   ]
  },
  {
   "cell_type": "markdown",
   "metadata": {},
   "source": [
    "=> Группа B явно опережает группу A по количеству заказов на одного посетителя. Это может быть вызвано удачными маркетинговыми стратегиями. Большие начальные колебания могут быть следствием выбросов или случайных событий, что требует дополнительного анализа. Важно оценить, насколько данные изменения стабильны и какие факторы на них влияют."
   ]
  },
  {
   "cell_type": "code",
   "execution_count": 20,
   "metadata": {},
   "outputs": [
    {
     "data": {
      "image/png": "[encoded data removed]",
      "text/plain": [
       "<Figure size 864x432 with 1 Axes>"
      ]
     },
     "metadata": {},
     "output_type": "display_data"
    }
   ],
   "source": [
    "# График относительного изменения кумулятивного среднего количества заказов на посетителя группы B к группе A.\n",
    "# Агрегирование данных по заказам\n",
    "ordersAggregated = datesGroups.apply(\n",
    "    lambda x: orders[\n",
    "        (orders['date'] <= x['date']) & (orders['group'] == x['group'])\n",
    "    ].agg(\n",
    "        {\n",
    "            'date': 'max',\n",
    "            'group': 'max',\n",
    "            'transactionId': 'nunique',  # Количество заказов\n",
    "        }\n",
    "    ),\n",
    "    axis=1,\n",
    ").sort_values(by=['date', 'group'])\n",
    "\n",
    "# Агрегирование данных по посетителям\n",
    "visitorsAggregated = datesGroups.apply(\n",
    "    lambda x: visitors[\n",
    "        (visitors['date'] <= x['date']) & (visitors['group'] == x['group'])\n",
    "    ].agg(\n",
    "        {\n",
    "            'date': 'max',\n",
    "            'group': 'max',\n",
    "            'visitors': 'sum'\n",
    "        }\n",
    "    ),\n",
    "    axis=1,\n",
    ").sort_values(by=['date', 'group'])\n",
    "\n",
    "# Объединение агрегированных данных\n",
    "cumulativeData = ordersAggregated.merge(\n",
    "    visitorsAggregated, on=['date', 'group']\n",
    ")\n",
    "cumulativeData.columns = [\n",
    "    'date',\n",
    "    'group',\n",
    "    'orders',\n",
    "    'visitors',\n",
    "]\n",
    "\n",
    "# Расчет кумулятивного среднего количества заказов на посетителя\n",
    "cumulativeData['orders_per_visitor'] = (\n",
    "    cumulativeData['orders'] / cumulativeData['visitors']\n",
    ")\n",
    "\n",
    "# Разделение данных по группам\n",
    "cumulativeOrdersPerVisitorA = cumulativeData[cumulativeData['group'] == 'A']\n",
    "cumulativeOrdersPerVisitorB = cumulativeData[cumulativeData['group'] == 'B']\n",
    "\n",
    "# Объединение данных по среднему количеству заказов на посетителя\n",
    "mergedCumulativeOrdersPerVisitor = cumulativeOrdersPerVisitorA[['date', 'orders_per_visitor']].merge(\n",
    "    cumulativeOrdersPerVisitorB[['date', 'orders_per_visitor']],\n",
    "    on='date', \n",
    "    suffixes=['A', 'B']\n",
    ")\n",
    "\n",
    "# Визуализация относительного изменения\n",
    "plt.figure(figsize=(12, 6))\n",
    "sns.set_style(\"whitegrid\")\n",
    "\n",
    "plt.plot(\n",
    "    mergedCumulativeOrdersPerVisitor['date'],\n",
    "    mergedCumulativeOrdersPerVisitor['orders_per_visitorB'] / mergedCumulativeOrdersPerVisitor['orders_per_visitorA'] - 1,\n",
    "    label=\"Относительное изменение средней кумулятивной конверсии\\nгруппы B относительно группы A\",\n",
    "    color='royalblue'\n",
    ")\n",
    "\n",
    "plt.axhline(y=0, color='black', linestyle='--', linewidth=1)\n",
    "plt.xlabel('Дата')\n",
    "plt.ylabel('Относительное изменение')\n",
    "plt.title('Относительное изменение кумулятивного среднего количества заказов на посетителя\\nгруппы B к группе A')\n",
    "plt.legend(loc='upper left')\n",
    "plt.xticks(rotation=45)\n",
    "plt.tight_layout()\n",
    "\n",
    "plt.show()"
   ]
  },
  {
   "cell_type": "markdown",
   "metadata": {},
   "source": [
    "=> Возможно, в группе B были применены успешные маркетинговые стратегии, которые привели к улучшению показателей.\n",
    "Для подтверждения устойчивости и значимости выявленных улучшений необходимо провести дополнительный статистический анализ."
   ]
  },
  {
   "cell_type": "code",
   "execution_count": 21,
   "metadata": {},
   "outputs": [
    {
     "data": {
      "image/png": "[encoded data removed]",
      "text/plain": [
       "<Figure size 720x432 with 1 Axes>"
      ]
     },
     "metadata": {},
     "output_type": "display_data"
    }
   ],
   "source": [
    "# Постройте точечный график количества заказов по пользователям.\n",
    "# Сгруппировать данные по пользователям и подсчитать количество заказов\n",
    "orders_by_user = orders.groupby('visitorId').agg({'transactionId': 'nunique'}).reset_index()\n",
    "orders_by_user.columns = ['visitorId', 'order_count']\n",
    "\n",
    "# Построить точечный график\n",
    "plt.figure(figsize=(10, 6))\n",
    "plt.scatter(orders_by_user['visitorId'], orders_by_user['order_count'])\n",
    "plt.title('Количество заказов по пользователям')\n",
    "plt.xlabel('ID Пользователя')\n",
    "plt.ylabel('Количество заказов')\n",
    "plt.grid(True)\n",
    "plt.show()"
   ]
  },
  {
   "cell_type": "markdown",
   "metadata": {},
   "source": [
    "=> Пользователи с высоким числом заказов могут быть аномалиями. Необходимо проанализировать их поведение, чтобы понять, не связаны ли они с ошибками в данных или другими факторами. Поскольку большинство пользователей совершают малое число покупок, следует разработать стратегии для повышения их активности, такие как специальные предложения или программы лояльности. Активные пользователи, вероятно, имеют значительное влияние на выручку. С ними стоит работать более плотно, предлагая персонализированные акции или предложения."
   ]
  },
  {
   "cell_type": "code",
   "execution_count": 22,
   "metadata": {},
   "outputs": [
    {
     "data": {
      "text/plain": [
       "(1.0, 2.0)"
      ]
     },
     "execution_count": 22,
     "metadata": {},
     "output_type": "execute_result"
    }
   ],
   "source": [
    "# Посчитайте 95-й и 99-й перцентили количества заказов на пользователя. \n",
    "# Выберите границу для определения аномальных пользователей.\n",
    "orders_by_user = orders.groupby('visitorId').agg({'transactionId': 'nunique'}).reset_index()\n",
    "orders_by_user.columns = ['visitorId', 'order_count']\n",
    "\n",
    "# Вычисление 95-го и 99-го перцентилей\n",
    "percentile_95 = np.percentile(orders_by_user['order_count'], 95)\n",
    "percentile_99 = np.percentile(orders_by_user['order_count'], 99)\n",
    "\n",
    "percentile_95, percentile_99"
   ]
  },
  {
   "cell_type": "markdown",
   "metadata": {},
   "source": [
    "=> Граница для определения аномальных пользователей = (1.0, 2.0)"
   ]
  },
  {
   "cell_type": "code",
   "execution_count": 23,
   "metadata": {},
   "outputs": [
    {
     "data": {
      "image/png": "[encoded data removed]",
      "text/plain": [
       "<Figure size 720x432 with 1 Axes>"
      ]
     },
     "metadata": {},
     "output_type": "display_data"
    }
   ],
   "source": [
    "#Постройте точечный график стоимостей заказов.\n",
    "plt.figure(figsize=(10, 6))\n",
    "plt.scatter(orders['transactionId'], orders['revenue'])\n",
    "plt.title('Точечный график стоимостей заказов')\n",
    "plt.xlabel('ID Заказа')\n",
    "plt.ylabel('Стоимость заказа')\n",
    "plt.grid(True)\n",
    "plt.show()"
   ]
  },
  {
   "cell_type": "markdown",
   "metadata": {},
   "source": [
    "=> Заказы с чрезвычайно высокой стоимостью требуют проверки. Это могут быть либо ошибки в данных, либо уникальные крупные продажи. Аномально высокие заказы могут существенно влиять на средние значения. Для корректного анализа рекомендуется использовать медианные значения или проводить анализ на очищенных данных, исключая выбросы. Возможно, стоит изучить поведение клиентов, совершивших крупные заказы, для выявления стратегий, которые могут быть применены к другим клиентам."
   ]
  },
  {
   "cell_type": "code",
   "execution_count": 24,
   "metadata": {},
   "outputs": [
    {
     "data": {
      "text/plain": [
       "(26785.0, 53904.0)"
      ]
     },
     "execution_count": 24,
     "metadata": {},
     "output_type": "execute_result"
    }
   ],
   "source": [
    "# Посчитайте 95-й и 99-й перцентили стоимости заказов.\n",
    "# Вычисление 95-го и 99-го перцентилей\n",
    "percentile_95_revenue = np.percentile(orders['revenue'], 95)\n",
    "percentile_99_revenue = np.percentile(orders['revenue'], 99)\n",
    "\n",
    "percentile_95_revenue, percentile_99_revenue"
   ]
  },
  {
   "cell_type": "markdown",
   "metadata": {},
   "source": [
    "=> Граница для определения аномальных пользователей = (26785.0, 53904.0)"
   ]
  },
  {
   "cell_type": "markdown",
   "metadata": {},
   "source": [
    "Статистическая значимость различий в среднем количестве заказов на посетителя между группами по «сырым» данным:\n",
    " * H0 - среднее количество заказов в группа A и B одинаковое.\n",
    " * H1 - среднее количество заказов в группа A и B разное."
   ]
  },
  {
   "cell_type": "code",
   "execution_count": 26,
   "metadata": {},
   "outputs": [
    {
     "name": "stdout",
     "output_type": "stream",
     "text": [
      "P value = 0.011, отвергам нулевую гипотезу\n",
      "Различия в среднем количестве заказов на посетителя между группами A и B статистически значимы.\n"
     ]
    }
   ],
   "source": [
    "# Группируем данные по посетителям которые сделали хотя бы 1 заказ по группе А\n",
    "ordersByUsersA = (\n",
    "    orders[orders['group'] == 'A']\n",
    "    .groupby('visitorId', as_index=False)\n",
    "    .agg({'transactionId': pd.Series.nunique})\n",
    ")\n",
    "ordersByUsersA.columns = ['userId', 'orders']\n",
    "\n",
    "# Заводим переменную sampleA в которой пользователям будет соответствовать количество заказов\n",
    "sampleA = pd.concat(\n",
    "    [\n",
    "        ordersByUsersA['orders'],\n",
    "        pd.Series(\n",
    "            0, \n",
    "            index=np.arange(\n",
    "                visitors[visitors['group']=='A']['visitors'].sum()-len(ordersByUsersA)\n",
    "            ), \n",
    "            name='orders')\n",
    "    ],\n",
    "    axis=0\n",
    ")\n",
    "\n",
    "# Группируем данные по посетителям которые сделали хотя бы 1 заказ по группе B\n",
    "ordersByUsersB = (\n",
    "    orders[orders['group'] == 'B']\n",
    "    .groupby('visitorId', as_index=False)\n",
    "    .agg({'transactionId': pd.Series.nunique})\n",
    ")\n",
    "ordersByUsersB.columns = ['userId', 'orders']\n",
    "\n",
    "# Заводим переменную sampleB в которой пользователям будет соответствовать количество заказов\n",
    "sampleB = pd.concat(\n",
    "    [\n",
    "        ordersByUsersB['orders'],\n",
    "        pd.Series(\n",
    "            0, \n",
    "            index=np.arange(\n",
    "                visitors[visitors['group']=='B']['visitors'].sum()-len(ordersByUsersB)\n",
    "            ), \n",
    "            name='orders')\n",
    "    ],\n",
    "    axis=0\n",
    ")\n",
    "\n",
    "# Тест Манна-Уитни\n",
    "stat, p_value = mannwhitneyu(sampleA, sampleB, alternative='two-sided')\n",
    "if p_value < 0.05:\n",
    "    print(f\"P value = {p_value:.3f}, отвергам нулевую гипотезу\")\n",
    "    print(\"Различия в среднем количестве заказов на посетителя между группами A и B статистически значимы.\")\n",
    "else:\n",
    "    print(f\"P value = {p_value:.3f}, принимаем нулевую гипотезу\")\n",
    "    print(\"Различия в среднем количестве заказов на посетителя между группами A и B статистически незначимы.\")"
   ]
  },
  {
   "cell_type": "code",
   "execution_count": 27,
   "metadata": {},
   "outputs": [
    {
     "name": "stdout",
     "output_type": "stream",
     "text": [
      "Среднее количество заказов на посетителя в группе A: 0.025\n",
      "Среднее количество заказов на посетителя в группе B: 0.029\n",
      "Абсолютная разница: 0.004\n",
      "Относительная разница: 15.98%\n"
     ]
    }
   ],
   "source": [
    "# Вычисляем среднее количество заказов на посетителя для каждой группы\n",
    "meanA = sampleA.mean()\n",
    "meanB = sampleB.mean()\n",
    "\n",
    "# Вычисляем абсолютную и относительную разницу\n",
    "absolute_difference = meanB - meanA\n",
    "relative_difference = (meanB - meanA) / meanA * 100\n",
    "\n",
    "# Печатаем результаты\n",
    "print(f\"Среднее количество заказов на посетителя в группе A: {meanA:.3f}\")\n",
    "print(f\"Среднее количество заказов на посетителя в группе B: {meanB:.3f}\")\n",
    "print(f\"Абсолютная разница: {absolute_difference:.3f}\")\n",
    "print(f\"Относительная разница: {relative_difference:.2f}%\")"
   ]
  },
  {
   "cell_type": "markdown",
   "metadata": {},
   "source": [
    "Статистическая значимость различий в среднем чеке заказа между группами по «сырым» данным.\n",
    " * H0 - различий в среднем чеке заказа между группами A и B нет.\n",
    " * H1 - различия в среднем чеке заказа между группами A и B есть."
   ]
  },
  {
   "cell_type": "code",
   "execution_count": 28,
   "metadata": {},
   "outputs": [],
   "source": [
    "# Разделить данные на две группы\n",
    "revenue_A = orders[orders['group'] == 'A']['revenue']\n",
    "revenue_B = orders[orders['group'] == 'B']['revenue']\n",
    "\n",
    "# Применить тест Манна-Уитни\n",
    "#stat, p_value = mannwhitneyu(revenue_A, revenue_B, alternative='two-sided')\n",
    "\n",
    "#stat, p_value"
   ]
  },
  {
   "cell_type": "code",
   "execution_count": 29,
   "metadata": {},
   "outputs": [
    {
     "name": "stdout",
     "output_type": "stream",
     "text": [
      "P value = 0.829, принимаем нулевую гипотезу\n",
      "Различия в среднем чеке заказа между группами A и B статистически незначимы.\n"
     ]
    }
   ],
   "source": [
    "# Тест Манна-Уитни\n",
    "stat, p_value = mannwhitneyu(revenue_A, revenue_B, alternative='two-sided')\n",
    "if p_value < 0.05:\n",
    "    print(f\"P value = {p_value:.3f}, отвергам нулевую гипотезу\")\n",
    "    print(\"Различия в среднем чеке заказа между группами A и B статистически значимы.\")\n",
    "else:\n",
    "    print(f\"P value = {p_value:.3f}, принимаем нулевую гипотезу\")\n",
    "    print(\"Различия в среднем чеке заказа между группами A и B статистически незначимы.\")"
   ]
  },
  {
   "cell_type": "code",
   "execution_count": 30,
   "metadata": {},
   "outputs": [
    {
     "name": "stdout",
     "output_type": "stream",
     "text": [
      "Средний чек заказа в группе A: 7189.436\n",
      "Средний чек заказа в группе B: 9249.949\n",
      "Абсолютная разница: 2060.513\n",
      "Относительная разница: 28.66%\n"
     ]
    }
   ],
   "source": [
    "# Вычисляем средний чек заказа между группами\n",
    "meanA = revenue_A.mean()\n",
    "meanB = revenue_B.mean()\n",
    "\n",
    "# Вычисляем абсолютную и относительную разницу\n",
    "absolute_difference = meanB - meanA\n",
    "relative_difference = (meanB - meanA) / meanA * 100\n",
    "\n",
    "# Печатаем результаты\n",
    "print(f\"Средний чек заказа в группе A: {meanA:.3f}\")\n",
    "print(f\"Средний чек заказа в группе B: {meanB:.3f}\")\n",
    "print(f\"Абсолютная разница: {absolute_difference:.3f}\")\n",
    "print(f\"Относительная разница: {relative_difference:.2f}%\")"
   ]
  },
  {
   "cell_type": "markdown",
   "metadata": {},
   "source": [
    "Посчитайте статистическую значимость различий в среднем количестве заказов на посетителя между группами по «очищенным» данным.\n",
    " * H0 - среднее количество заказов в группа A и B одинаковое.\n",
    " * H1 - среднее количество заказов в группа A и B разное."
   ]
  },
  {
   "cell_type": "code",
   "execution_count": 32,
   "metadata": {},
   "outputs": [
    {
     "name": "stdout",
     "output_type": "stream",
     "text": [
      "P value = 0.009, отвергам нулевую гипотезу\n",
      "Различия в среднем количестве заказов на посетителя между группами A и B статистически значимы.\n"
     ]
    }
   ],
   "source": [
    "# Исходные данные и их агрегирование\n",
    "ordersByUsersA = (\n",
    "    orders[orders['group'] == 'A']\n",
    "    .groupby('visitorId', as_index=False)\n",
    "    .agg({'transactionId': pd.Series.nunique})\n",
    ")\n",
    "ordersByUsersA.columns = ['userId', 'orders']\n",
    "\n",
    "ordersByUsersB = (\n",
    "    orders[orders['group'] == 'B']\n",
    "    .groupby('visitorId', as_index=False)\n",
    "    .agg({'transactionId': pd.Series.nunique})\n",
    ")\n",
    "ordersByUsersB.columns = ['userId', 'orders']\n",
    "\n",
    "# Определение 95-го процентиля для группы A\n",
    "percentile95_A = np.percentile(ordersByUsersA['orders'], 95)\n",
    "\n",
    "# Определение 95-го процентиля для группы B\n",
    "percentile95_B = np.percentile(ordersByUsersB['orders'], 95)\n",
    "\n",
    "# Фильтрация аномальных заказов\n",
    "filteredOrdersA = ordersByUsersA[ordersByUsersA['orders'] <= percentile95_A]\n",
    "filteredOrdersB = ordersByUsersB[ordersByUsersB['orders'] <= percentile95_B]\n",
    "\n",
    "# Обновим переменные sampleA и sampleB для \"очищенных\" данных:\n",
    "sampleA_clean = pd.concat(\n",
    "    [\n",
    "        filteredOrdersA['orders'],\n",
    "        pd.Series(\n",
    "            0,\n",
    "            index=np.arange(visitors[visitors['group'] == 'A']['visitors'].sum() - len(filteredOrdersA)),\n",
    "            name='orders'\n",
    "        )\n",
    "    ],\n",
    "    axis=0\n",
    ")\n",
    "\n",
    "sampleB_clean = pd.concat(\n",
    "    [\n",
    "        filteredOrdersB['orders'],\n",
    "        pd.Series(\n",
    "            0,\n",
    "            index=np.arange(visitors[visitors['group'] == 'B']['visitors'].sum() - len(filteredOrdersB)),\n",
    "            name='orders'\n",
    "        )\n",
    "    ],\n",
    "    axis=0\n",
    ")\n",
    "\n",
    "# Тест Манна-Уитни на очищенных данных\n",
    "stat, p_value = mannwhitneyu(sampleA_clean, sampleB_clean, alternative='two-sided')\n",
    "\n",
    "if p_value < 0.05:\n",
    "    print(f\"P value = {p_value:.3f}, отвергам нулевую гипотезу\")\n",
    "    print(\"Различия в среднем количестве заказов на посетителя между группами A и B статистически значимы.\")\n",
    "else:\n",
    "    print(f\"P value = {p_value:.3f}, принимаем нулевую гипотезу\")\n",
    "    print(\"Различия в среднем количестве заказов на посетителя между группами A и B статистически незначимы.\")"
   ]
  },
  {
   "cell_type": "code",
   "execution_count": 33,
   "metadata": {},
   "outputs": [
    {
     "name": "stdout",
     "output_type": "stream",
     "text": [
      "Среднее количество заказов на посетителя в группе A: 0.023\n",
      "Среднее количество заказов на посетителя в группе B: 0.027\n",
      "Абсолютная разница: 0.004\n",
      "Относительная разница: 18.30%\n"
     ]
    }
   ],
   "source": [
    "# Вычисляем среднее количество заказов на посетителя для каждой группы\n",
    "meanA = sampleA_clean.mean()\n",
    "meanB = sampleB_clean.mean()\n",
    "\n",
    "# Вычисляем абсолютную и относительную разницу\n",
    "absolute_difference = meanB - meanA\n",
    "relative_difference = (meanB - meanA) / meanA * 100\n",
    "\n",
    "# Печатаем результаты\n",
    "print(f\"Среднее количество заказов на посетителя в группе A: {meanA:.3f}\")\n",
    "print(f\"Среднее количество заказов на посетителя в группе B: {meanB:.3f}\")\n",
    "print(f\"Абсолютная разница: {absolute_difference:.3f}\")\n",
    "print(f\"Относительная разница: {relative_difference:.2f}%\")"
   ]
  },
  {
   "cell_type": "markdown",
   "metadata": {},
   "source": [
    "Статистическая значимость различий в среднем чеке заказа между группами по «очищенным» данным.\n",
    " * H0 - различий в среднем чеке заказа между группами A и B нет.\n",
    " * H1 - различия в среднем чеке заказа между группами A и B есть."
   ]
  },
  {
   "cell_type": "code",
   "execution_count": 34,
   "metadata": {},
   "outputs": [],
   "source": [
    "# Определить аномальные заказы\n",
    "percentile_95_revenue = np.percentile(orders['revenue'], 95)\n",
    "clean_orders = orders[orders['revenue'] <= percentile_95_revenue]\n",
    "\n",
    "# Разделить очищенные данные на группы\n",
    "revenue_A = clean_orders[clean_orders['group'] == 'A']['revenue']\n",
    "revenue_B = clean_orders[clean_orders['group'] == 'B']['revenue']\n",
    "\n",
    "# Применить тест Манна-Уитни\n",
    "#stat, p_value = mannwhitneyu(revenue_A, revenue_B, alternative='two-sided')\n",
    "\n",
    "#stat, p_value"
   ]
  },
  {
   "cell_type": "code",
   "execution_count": 35,
   "metadata": {},
   "outputs": [
    {
     "name": "stdout",
     "output_type": "stream",
     "text": [
      "P value = 0.699, принимаем нулевую гипотезу\n",
      "Различия в среднем чеке заказа между группами A и B статистически незначимы.\n"
     ]
    }
   ],
   "source": [
    "# Тест Манна-Уитни\n",
    "stat, p_value = mannwhitneyu(revenue_A, revenue_B, alternative='two-sided')\n",
    "if p_value < 0.05:\n",
    "    print(f\"P value = {p_value:.3f}, отвергам нулевую гипотезу\")\n",
    "    print(\"Различия в среднем чеке заказа между группами A и B статистически значимы.\")\n",
    "else:\n",
    "    print(f\"P value = {p_value:.3f}, принимаем нулевую гипотезу\")\n",
    "    print(\"Различия в среднем чеке заказа между группами A и B статистически незначимы.\")"
   ]
  },
  {
   "cell_type": "code",
   "execution_count": 36,
   "metadata": {},
   "outputs": [
    {
     "name": "stdout",
     "output_type": "stream",
     "text": [
      "Средний чек заказа в группе A: 5199.594\n",
      "Средний чек заказа в группе B: 4894.233\n",
      "Абсолютная разница: -305.361\n",
      "Относительная разница: -5.87%\n"
     ]
    }
   ],
   "source": [
    "# Вычисляем средний чек заказа между группами\n",
    "meanA = revenue_A.mean()\n",
    "meanB = revenue_B.mean()\n",
    "\n",
    "# Вычисляем абсолютную и относительную разницу\n",
    "absolute_difference = meanB - meanA\n",
    "relative_difference = (meanB - meanA) / meanA * 100\n",
    "\n",
    "# Печатаем результаты\n",
    "print(f\"Средний чек заказа в группе A: {meanA:.3f}\")\n",
    "print(f\"Средний чек заказа в группе B: {meanB:.3f}\")\n",
    "print(f\"Абсолютная разница: {absolute_difference:.3f}\")\n",
    "print(f\"Относительная разница: {relative_difference:.2f}%\")"
   ]
  },
  {
   "cell_type": "markdown",
   "metadata": {},
   "source": [
    "### Вывод:\n",
    "\n",
    "* Остановить тест, так как статистически значимые различия были обнаружены в среднем количестве заказов на посетителя между группами A и B. Хотя статистически значимой разницы в среднем чеке заказа между группами A и B зафиксировано не было.\n",
    "\n",
    "\n",
    "* В группе B среднее количество заказов на посетителя составило 0.027, что на 0.004 (или 18.30%) больше, чем в группе A, где этот показатель составлял 0.023. Это свидетельствует о том, что изменения внесенные в группу B, положительно повлияли на количество заказов.\n",
    "\n",
    "\n",
    "* По среднему чеку заказа статистически значимых различий между группами A и B не выявлено. Средний чек в группе A составлял 5199.594, а в группе B — 4894.233. Абсолютная разница составила -305.361, что соответствует относительной разнице в -5.87%. Несмотря на это, отсутствие статистически значимой разницы по среднему чеку означает, что чек не только не увеличился, но и существенно не снизился.\n",
    "\n",
    "\n",
    "* Увеличение количества заказов при сохранении среднего чека говорит о росте общей выручки, что соответствует нашей основной цели.\n",
    "\n",
    "\n",
    "* Можно рассмотреть возможность внедрения улучшенных маркетинговых решений для повышения среднего чека, что дополнительно может увеличить общую выручку. Такой подход может усилить положительный эффект от уже достигнутого роста количества заказов."
   ]
  },
  {
   "cell_type": "code",
   "execution_count": null,
   "metadata": {},
   "outputs": [],
   "source": []
  }
 ],
 "metadata": {
  "ExecuteTimeLog": [
   {
    "duration": 349,
    "start_time": "2024-09-01T05:53:12.993Z"
   },
   {
    "duration": 58,
    "start_time": "2024-09-01T05:53:48.594Z"
   },
   {
    "duration": 7,
    "start_time": "2024-09-01T05:54:00.747Z"
   },
   {
    "duration": 80,
    "start_time": "2024-09-01T05:55:14.812Z"
   },
   {
    "duration": 3,
    "start_time": "2024-09-01T06:00:42.200Z"
   },
   {
    "duration": 17,
    "start_time": "2024-09-01T06:00:52.891Z"
   },
   {
    "duration": 422,
    "start_time": "2024-10-26T02:32:43.715Z"
   },
   {
    "duration": 81,
    "start_time": "2024-10-26T02:34:37.551Z"
   },
   {
    "duration": 32,
    "start_time": "2024-10-26T02:35:07.088Z"
   },
   {
    "duration": 11,
    "start_time": "2024-10-26T02:35:25.458Z"
   },
   {
    "duration": 5,
    "start_time": "2024-10-26T02:35:27.531Z"
   },
   {
    "duration": 32,
    "start_time": "2024-10-26T02:37:32.154Z"
   },
   {
    "duration": 4,
    "start_time": "2024-10-26T02:38:29.325Z"
   },
   {
    "duration": 2,
    "start_time": "2024-10-26T02:38:29.888Z"
   },
   {
    "duration": 1263,
    "start_time": "2024-10-26T02:46:46.674Z"
   },
   {
    "duration": 11,
    "start_time": "2024-10-26T02:47:04.416Z"
   },
   {
    "duration": 11,
    "start_time": "2024-10-26T02:48:28.455Z"
   },
   {
    "duration": 10,
    "start_time": "2024-10-26T02:48:43.288Z"
   },
   {
    "duration": 24,
    "start_time": "2024-10-26T02:57:24.292Z"
   },
   {
    "duration": 108,
    "start_time": "2024-10-26T03:26:31.886Z"
   },
   {
    "duration": 11,
    "start_time": "2024-10-26T03:27:00.266Z"
   },
   {
    "duration": 5,
    "start_time": "2024-10-26T03:27:02.979Z"
   },
   {
    "duration": 83,
    "start_time": "2024-10-26T03:27:51.444Z"
   },
   {
    "duration": 9,
    "start_time": "2024-10-26T03:27:53.088Z"
   },
   {
    "duration": 5,
    "start_time": "2024-10-26T03:27:54.729Z"
   },
   {
    "duration": 424,
    "start_time": "2024-10-26T03:35:20.714Z"
   },
   {
    "duration": 318,
    "start_time": "2024-10-26T03:38:25.796Z"
   },
   {
    "duration": 279,
    "start_time": "2024-10-26T03:38:57.207Z"
   },
   {
    "duration": 40,
    "start_time": "2024-10-26T03:44:26.291Z"
   },
   {
    "duration": 31,
    "start_time": "2024-10-26T03:59:24.707Z"
   },
   {
    "duration": 752,
    "start_time": "2024-10-26T04:01:02.042Z"
   },
   {
    "duration": 595,
    "start_time": "2024-10-26T04:01:24.418Z"
   },
   {
    "duration": 1453,
    "start_time": "2024-10-26T04:04:04.984Z"
   },
   {
    "duration": 4,
    "start_time": "2024-10-26T04:04:43.007Z"
   },
   {
    "duration": 817,
    "start_time": "2024-10-26T04:07:50.394Z"
   },
   {
    "duration": 931,
    "start_time": "2024-10-26T04:09:01.693Z"
   },
   {
    "duration": 737,
    "start_time": "2024-10-26T04:10:50.976Z"
   },
   {
    "duration": 718,
    "start_time": "2024-10-26T04:11:45.084Z"
   },
   {
    "duration": 619,
    "start_time": "2024-10-26T04:13:52.537Z"
   },
   {
    "duration": 677,
    "start_time": "2024-10-26T04:16:32.609Z"
   },
   {
    "duration": 756,
    "start_time": "2024-10-26T04:19:13.455Z"
   },
   {
    "duration": 753,
    "start_time": "2024-10-26T04:21:02.930Z"
   },
   {
    "duration": 691,
    "start_time": "2024-10-26T04:21:44.441Z"
   },
   {
    "duration": 798,
    "start_time": "2024-10-26T04:22:39.506Z"
   },
   {
    "duration": 251,
    "start_time": "2024-10-26T04:24:05.108Z"
   },
   {
    "duration": 796,
    "start_time": "2024-10-26T04:26:04.116Z"
   },
   {
    "duration": 1394,
    "start_time": "2024-10-28T12:14:56.073Z"
   },
   {
    "duration": 84,
    "start_time": "2024-10-28T12:14:57.469Z"
   },
   {
    "duration": 2,
    "start_time": "2024-10-28T12:14:57.555Z"
   },
   {
    "duration": 19,
    "start_time": "2024-10-28T12:14:57.560Z"
   },
   {
    "duration": 20,
    "start_time": "2024-10-28T12:14:57.581Z"
   },
   {
    "duration": 39,
    "start_time": "2024-10-28T12:14:57.603Z"
   },
   {
    "duration": 98,
    "start_time": "2024-10-28T12:14:57.644Z"
   },
   {
    "duration": 11,
    "start_time": "2024-10-28T12:14:57.744Z"
   },
   {
    "duration": 23,
    "start_time": "2024-10-28T12:14:57.757Z"
   },
   {
    "duration": 82,
    "start_time": "2024-10-28T12:14:57.782Z"
   },
   {
    "duration": 10,
    "start_time": "2024-10-28T12:14:57.866Z"
   },
   {
    "duration": 15,
    "start_time": "2024-10-28T12:14:57.877Z"
   },
   {
    "duration": 774,
    "start_time": "2024-10-28T12:14:57.893Z"
   },
   {
    "duration": 613,
    "start_time": "2024-10-28T12:14:58.670Z"
   },
   {
    "duration": 753,
    "start_time": "2024-10-28T12:14:59.285Z"
   },
   {
    "duration": 795,
    "start_time": "2024-10-28T12:15:00.040Z"
   },
   {
    "duration": 828,
    "start_time": "2024-10-28T12:15:00.837Z"
   },
   {
    "duration": 307,
    "start_time": "2024-10-28T12:15:01.668Z"
   },
   {
    "duration": 651,
    "start_time": "2024-10-28T12:22:34.563Z"
   },
   {
    "duration": 782,
    "start_time": "2024-10-28T12:23:31.487Z"
   },
   {
    "duration": 794,
    "start_time": "2024-10-28T12:23:42.350Z"
   },
   {
    "duration": 763,
    "start_time": "2024-10-28T12:24:46.686Z"
   },
   {
    "duration": 69,
    "start_time": "2024-10-28T12:25:08.364Z"
   },
   {
    "duration": 697,
    "start_time": "2024-10-28T12:25:23.198Z"
   },
   {
    "duration": 789,
    "start_time": "2024-10-28T12:25:45.408Z"
   },
   {
    "duration": 177,
    "start_time": "2024-10-28T12:36:02.361Z"
   },
   {
    "duration": 9,
    "start_time": "2024-10-28T12:40:19.487Z"
   },
   {
    "duration": 182,
    "start_time": "2024-10-28T12:41:22.197Z"
   },
   {
    "duration": 7,
    "start_time": "2024-10-28T12:43:08.649Z"
   },
   {
    "duration": 23,
    "start_time": "2024-10-28T12:44:10.567Z"
   },
   {
    "duration": 3,
    "start_time": "2024-10-28T12:44:29.206Z"
   },
   {
    "duration": 18,
    "start_time": "2024-10-28T12:44:34.735Z"
   },
   {
    "duration": 12,
    "start_time": "2024-10-28T12:45:27.659Z"
   },
   {
    "duration": 27,
    "start_time": "2024-10-28T12:46:19.305Z"
   },
   {
    "duration": 11,
    "start_time": "2024-10-28T12:48:20.501Z"
   },
   {
    "duration": 1354,
    "start_time": "2024-10-28T14:25:25.518Z"
   },
   {
    "duration": 76,
    "start_time": "2024-10-28T14:25:26.874Z"
   },
   {
    "duration": 2,
    "start_time": "2024-10-28T14:25:26.951Z"
   },
   {
    "duration": 3,
    "start_time": "2024-10-28T14:25:26.955Z"
   },
   {
    "duration": 14,
    "start_time": "2024-10-28T14:25:26.959Z"
   },
   {
    "duration": 11,
    "start_time": "2024-10-28T14:25:26.974Z"
   },
   {
    "duration": 92,
    "start_time": "2024-10-28T14:25:26.987Z"
   },
   {
    "duration": 11,
    "start_time": "2024-10-28T14:25:27.080Z"
   },
   {
    "duration": 13,
    "start_time": "2024-10-28T14:25:27.092Z"
   },
   {
    "duration": 78,
    "start_time": "2024-10-28T14:25:27.108Z"
   },
   {
    "duration": 10,
    "start_time": "2024-10-28T14:25:27.187Z"
   },
   {
    "duration": 26,
    "start_time": "2024-10-28T14:25:27.198Z"
   },
   {
    "duration": 749,
    "start_time": "2024-10-28T14:25:27.225Z"
   },
   {
    "duration": 667,
    "start_time": "2024-10-28T14:25:27.976Z"
   },
   {
    "duration": 758,
    "start_time": "2024-10-28T14:25:28.644Z"
   },
   {
    "duration": 810,
    "start_time": "2024-10-28T14:25:29.404Z"
   },
   {
    "duration": 783,
    "start_time": "2024-10-28T14:25:30.215Z"
   },
   {
    "duration": 180,
    "start_time": "2024-10-28T14:25:31.000Z"
   },
   {
    "duration": 8,
    "start_time": "2024-10-28T14:25:31.182Z"
   },
   {
    "duration": 191,
    "start_time": "2024-10-28T14:25:31.192Z"
   },
   {
    "duration": 5,
    "start_time": "2024-10-28T14:25:31.385Z"
   },
   {
    "duration": 57,
    "start_time": "2024-10-28T14:25:31.391Z"
   },
   {
    "duration": 50,
    "start_time": "2024-10-28T14:25:31.450Z"
   },
   {
    "duration": 135,
    "start_time": "2024-10-28T14:25:31.502Z"
   },
   {
    "duration": 11,
    "start_time": "2024-10-28T14:25:31.638Z"
   },
   {
    "duration": 49,
    "start_time": "2024-10-28T23:36:01.234Z"
   },
   {
    "duration": 1391,
    "start_time": "2024-10-28T23:36:10.116Z"
   },
   {
    "duration": 103,
    "start_time": "2024-10-28T23:36:18.556Z"
   },
   {
    "duration": 13,
    "start_time": "2024-10-28T23:36:29.405Z"
   },
   {
    "duration": 3,
    "start_time": "2024-10-28T23:36:35.036Z"
   },
   {
    "duration": 10,
    "start_time": "2024-10-28T23:36:53.061Z"
   },
   {
    "duration": 1429,
    "start_time": "2024-10-29T12:42:51.196Z"
   },
   {
    "duration": 96,
    "start_time": "2024-10-29T12:42:52.627Z"
   },
   {
    "duration": 3,
    "start_time": "2024-10-29T12:42:52.724Z"
   },
   {
    "duration": 11,
    "start_time": "2024-10-29T12:42:52.729Z"
   },
   {
    "duration": 15,
    "start_time": "2024-10-29T12:42:52.743Z"
   },
   {
    "duration": 3,
    "start_time": "2024-10-29T12:42:52.760Z"
   },
   {
    "duration": 15,
    "start_time": "2024-10-29T12:42:52.765Z"
   },
   {
    "duration": 25,
    "start_time": "2024-10-29T12:42:52.782Z"
   },
   {
    "duration": 124,
    "start_time": "2024-10-29T12:42:52.809Z"
   },
   {
    "duration": 12,
    "start_time": "2024-10-29T12:42:52.935Z"
   },
   {
    "duration": 17,
    "start_time": "2024-10-29T12:42:52.950Z"
   },
   {
    "duration": 73,
    "start_time": "2024-10-29T12:42:52.969Z"
   },
   {
    "duration": 11,
    "start_time": "2024-10-29T12:42:53.044Z"
   },
   {
    "duration": 8,
    "start_time": "2024-10-29T12:42:53.058Z"
   },
   {
    "duration": 875,
    "start_time": "2024-10-29T12:42:53.067Z"
   },
   {
    "duration": 708,
    "start_time": "2024-10-29T12:42:53.944Z"
   },
   {
    "duration": 824,
    "start_time": "2024-10-29T12:42:54.654Z"
   },
   {
    "duration": 817,
    "start_time": "2024-10-29T12:42:55.480Z"
   },
   {
    "duration": 883,
    "start_time": "2024-10-29T12:42:56.298Z"
   },
   {
    "duration": 183,
    "start_time": "2024-10-29T12:42:57.182Z"
   },
   {
    "duration": 9,
    "start_time": "2024-10-29T12:42:57.367Z"
   },
   {
    "duration": 211,
    "start_time": "2024-10-29T12:42:57.378Z"
   },
   {
    "duration": 7,
    "start_time": "2024-10-29T12:42:57.591Z"
   },
   {
    "duration": 25,
    "start_time": "2024-10-29T12:42:57.600Z"
   },
   {
    "duration": 33,
    "start_time": "2024-10-29T12:42:57.627Z"
   },
   {
    "duration": 171,
    "start_time": "2024-10-29T12:42:57.661Z"
   },
   {
    "duration": 22,
    "start_time": "2024-10-29T12:42:57.833Z"
   },
   {
    "duration": 9,
    "start_time": "2024-10-29T12:50:32.315Z"
   },
   {
    "duration": 10,
    "start_time": "2024-10-29T12:55:45.896Z"
   },
   {
    "duration": 705,
    "start_time": "2024-10-29T12:55:50.363Z"
   },
   {
    "duration": 206,
    "start_time": "2024-10-29T12:56:10.315Z"
   },
   {
    "duration": 10,
    "start_time": "2024-10-29T12:56:13.684Z"
   },
   {
    "duration": 201,
    "start_time": "2024-10-29T12:56:25.280Z"
   },
   {
    "duration": 6,
    "start_time": "2024-10-29T12:56:28.689Z"
   },
   {
    "duration": 17,
    "start_time": "2024-10-29T12:56:35.759Z"
   },
   {
    "duration": 20,
    "start_time": "2024-10-29T12:57:09.324Z"
   },
   {
    "duration": 11,
    "start_time": "2024-10-29T12:57:16.501Z"
   },
   {
    "duration": 20,
    "start_time": "2024-10-29T12:57:23.720Z"
   },
   {
    "duration": 1371,
    "start_time": "2024-10-30T11:54:16.466Z"
   },
   {
    "duration": 93,
    "start_time": "2024-10-30T11:54:17.840Z"
   },
   {
    "duration": 2,
    "start_time": "2024-10-30T11:54:17.935Z"
   },
   {
    "duration": 10,
    "start_time": "2024-10-30T11:54:17.939Z"
   },
   {
    "duration": 16,
    "start_time": "2024-10-30T11:54:17.951Z"
   },
   {
    "duration": 7,
    "start_time": "2024-10-30T11:54:17.969Z"
   },
   {
    "duration": 13,
    "start_time": "2024-10-30T11:54:17.978Z"
   },
   {
    "duration": 16,
    "start_time": "2024-10-30T11:54:17.993Z"
   },
   {
    "duration": 100,
    "start_time": "2024-10-30T11:54:18.011Z"
   },
   {
    "duration": 13,
    "start_time": "2024-10-30T11:54:18.113Z"
   },
   {
    "duration": 8,
    "start_time": "2024-10-30T11:54:18.127Z"
   },
   {
    "duration": 78,
    "start_time": "2024-10-30T11:54:18.136Z"
   },
   {
    "duration": 12,
    "start_time": "2024-10-30T11:54:18.215Z"
   },
   {
    "duration": 6,
    "start_time": "2024-10-30T11:54:18.229Z"
   },
   {
    "duration": 9,
    "start_time": "2024-10-30T11:54:18.236Z"
   },
   {
    "duration": 780,
    "start_time": "2024-10-30T11:54:18.246Z"
   },
   {
    "duration": 657,
    "start_time": "2024-10-30T11:54:19.027Z"
   },
   {
    "duration": 705,
    "start_time": "2024-10-30T11:54:19.687Z"
   },
   {
    "duration": 752,
    "start_time": "2024-10-30T11:54:20.393Z"
   },
   {
    "duration": 829,
    "start_time": "2024-10-30T11:54:21.146Z"
   },
   {
    "duration": 192,
    "start_time": "2024-10-30T11:54:21.977Z"
   },
   {
    "duration": 9,
    "start_time": "2024-10-30T11:54:22.171Z"
   },
   {
    "duration": 206,
    "start_time": "2024-10-30T11:54:22.182Z"
   },
   {
    "duration": 13,
    "start_time": "2024-10-30T11:54:22.390Z"
   },
   {
    "duration": 25,
    "start_time": "2024-10-30T11:54:22.405Z"
   },
   {
    "duration": 9,
    "start_time": "2024-10-30T11:54:22.431Z"
   },
   {
    "duration": 132,
    "start_time": "2024-10-30T11:54:22.441Z"
   },
   {
    "duration": 10,
    "start_time": "2024-10-30T11:54:22.575Z"
   },
   {
    "duration": 106,
    "start_time": "2024-10-30T12:19:08.904Z"
   },
   {
    "duration": 17,
    "start_time": "2024-10-30T12:25:14.030Z"
   },
   {
    "duration": 130,
    "start_time": "2024-10-30T12:25:42.857Z"
   },
   {
    "duration": 38,
    "start_time": "2024-10-30T12:32:54.455Z"
   },
   {
    "duration": 24,
    "start_time": "2024-10-30T12:40:55.394Z"
   },
   {
    "duration": 24,
    "start_time": "2024-10-30T12:41:06.468Z"
   },
   {
    "duration": 151,
    "start_time": "2024-10-30T12:41:26.189Z"
   },
   {
    "duration": 143,
    "start_time": "2024-10-30T12:42:30.412Z"
   },
   {
    "duration": 150,
    "start_time": "2024-10-30T12:42:47.563Z"
   },
   {
    "duration": 7,
    "start_time": "2024-10-30T12:45:15.923Z"
   },
   {
    "duration": 7,
    "start_time": "2024-10-30T12:46:17.793Z"
   },
   {
    "duration": 9,
    "start_time": "2024-10-30T12:49:30.814Z"
   },
   {
    "duration": 180,
    "start_time": "2024-10-30T13:11:06.742Z"
   },
   {
    "duration": 3,
    "start_time": "2024-10-30T13:12:46.550Z"
   },
   {
    "duration": 8,
    "start_time": "2024-10-30T13:13:12.188Z"
   },
   {
    "duration": 7,
    "start_time": "2024-10-30T13:13:20.226Z"
   },
   {
    "duration": 7,
    "start_time": "2024-10-30T13:13:22.331Z"
   },
   {
    "duration": 8,
    "start_time": "2024-10-30T13:14:26.950Z"
   },
   {
    "duration": 6,
    "start_time": "2024-10-30T13:15:08.424Z"
   },
   {
    "duration": 7,
    "start_time": "2024-10-30T13:15:12.859Z"
   },
   {
    "duration": 1267,
    "start_time": "2024-10-30T13:21:26.966Z"
   },
   {
    "duration": 40,
    "start_time": "2024-10-30T13:21:28.235Z"
   },
   {
    "duration": 3,
    "start_time": "2024-10-30T13:21:28.277Z"
   },
   {
    "duration": 7,
    "start_time": "2024-10-30T13:21:28.282Z"
   },
   {
    "duration": 27,
    "start_time": "2024-10-30T13:21:28.291Z"
   },
   {
    "duration": 14,
    "start_time": "2024-10-30T13:21:28.320Z"
   },
   {
    "duration": 33,
    "start_time": "2024-10-30T13:21:28.336Z"
   },
   {
    "duration": 18,
    "start_time": "2024-10-30T13:21:28.371Z"
   },
   {
    "duration": 58,
    "start_time": "2024-10-30T13:21:28.390Z"
   },
   {
    "duration": 12,
    "start_time": "2024-10-30T13:21:28.452Z"
   },
   {
    "duration": 6,
    "start_time": "2024-10-30T13:21:28.465Z"
   },
   {
    "duration": 21,
    "start_time": "2024-10-30T13:21:28.472Z"
   },
   {
    "duration": 11,
    "start_time": "2024-10-30T13:21:28.494Z"
   },
   {
    "duration": 6,
    "start_time": "2024-10-30T13:21:28.506Z"
   },
   {
    "duration": 22,
    "start_time": "2024-10-30T13:21:28.514Z"
   },
   {
    "duration": 761,
    "start_time": "2024-10-30T13:21:28.538Z"
   },
   {
    "duration": 654,
    "start_time": "2024-10-30T13:21:29.302Z"
   },
   {
    "duration": 730,
    "start_time": "2024-10-30T13:21:29.959Z"
   },
   {
    "duration": 729,
    "start_time": "2024-10-30T13:21:30.692Z"
   },
   {
    "duration": 784,
    "start_time": "2024-10-30T13:21:31.424Z"
   },
   {
    "duration": 203,
    "start_time": "2024-10-30T13:21:32.210Z"
   },
   {
    "duration": 9,
    "start_time": "2024-10-30T13:21:32.414Z"
   },
   {
    "duration": 1139,
    "start_time": "2024-10-30T13:26:41.451Z"
   },
   {
    "duration": 35,
    "start_time": "2024-10-30T13:26:42.592Z"
   },
   {
    "duration": 2,
    "start_time": "2024-10-30T13:26:42.629Z"
   },
   {
    "duration": 8,
    "start_time": "2024-10-30T13:26:42.634Z"
   },
   {
    "duration": 21,
    "start_time": "2024-10-30T13:26:42.644Z"
   },
   {
    "duration": 6,
    "start_time": "2024-10-30T13:26:42.666Z"
   },
   {
    "duration": 13,
    "start_time": "2024-10-30T13:26:42.673Z"
   },
   {
    "duration": 20,
    "start_time": "2024-10-30T13:26:42.688Z"
   },
   {
    "duration": 63,
    "start_time": "2024-10-30T13:26:42.710Z"
   },
   {
    "duration": 11,
    "start_time": "2024-10-30T13:26:42.776Z"
   },
   {
    "duration": 20,
    "start_time": "2024-10-30T13:26:42.789Z"
   },
   {
    "duration": 28,
    "start_time": "2024-10-30T13:26:42.811Z"
   },
   {
    "duration": 14,
    "start_time": "2024-10-30T13:26:42.842Z"
   },
   {
    "duration": 6,
    "start_time": "2024-10-30T13:26:42.858Z"
   },
   {
    "duration": 12,
    "start_time": "2024-10-30T13:26:42.866Z"
   },
   {
    "duration": 712,
    "start_time": "2024-10-30T13:26:42.880Z"
   },
   {
    "duration": 1480,
    "start_time": "2024-10-31T06:14:36.688Z"
   },
   {
    "duration": 84,
    "start_time": "2024-10-31T06:14:38.170Z"
   },
   {
    "duration": 2,
    "start_time": "2024-10-31T06:14:38.256Z"
   },
   {
    "duration": 15,
    "start_time": "2024-10-31T06:14:38.260Z"
   },
   {
    "duration": 17,
    "start_time": "2024-10-31T06:14:38.276Z"
   },
   {
    "duration": 18,
    "start_time": "2024-10-31T06:14:38.295Z"
   },
   {
    "duration": 21,
    "start_time": "2024-10-31T06:14:38.314Z"
   },
   {
    "duration": 40,
    "start_time": "2024-10-31T06:14:38.336Z"
   },
   {
    "duration": 126,
    "start_time": "2024-10-31T06:14:38.377Z"
   },
   {
    "duration": 13,
    "start_time": "2024-10-31T06:14:38.506Z"
   },
   {
    "duration": 101,
    "start_time": "2024-10-31T06:14:38.521Z"
   },
   {
    "duration": 82,
    "start_time": "2024-10-31T06:14:38.624Z"
   },
   {
    "duration": 11,
    "start_time": "2024-10-31T06:14:38.708Z"
   },
   {
    "duration": 18,
    "start_time": "2024-10-31T06:14:38.721Z"
   },
   {
    "duration": 32,
    "start_time": "2024-10-31T06:14:38.741Z"
   },
   {
    "duration": 802,
    "start_time": "2024-10-31T06:14:38.776Z"
   },
   {
    "duration": 650,
    "start_time": "2024-10-31T06:14:39.580Z"
   },
   {
    "duration": 776,
    "start_time": "2024-10-31T06:14:40.232Z"
   },
   {
    "duration": 725,
    "start_time": "2024-10-31T06:14:41.010Z"
   },
   {
    "duration": 856,
    "start_time": "2024-10-31T06:14:41.737Z"
   },
   {
    "duration": 194,
    "start_time": "2024-10-31T06:14:42.595Z"
   },
   {
    "duration": 28,
    "start_time": "2024-10-31T06:14:42.790Z"
   },
   {
    "duration": 172,
    "start_time": "2024-10-31T06:14:42.819Z"
   },
   {
    "duration": 13,
    "start_time": "2024-10-31T06:14:42.993Z"
   },
   {
    "duration": 25,
    "start_time": "2024-10-31T06:14:43.008Z"
   },
   {
    "duration": 229,
    "start_time": "2024-10-31T06:14:43.035Z"
   },
   {
    "duration": 5,
    "start_time": "2024-10-31T06:14:43.266Z"
   },
   {
    "duration": 22,
    "start_time": "2024-10-31T06:14:43.273Z"
   },
   {
    "duration": 29,
    "start_time": "2024-10-31T06:14:43.297Z"
   },
   {
    "duration": 195,
    "start_time": "2024-10-31T06:14:43.327Z"
   },
   {
    "duration": 8,
    "start_time": "2024-10-31T06:14:43.523Z"
   },
   {
    "duration": 18,
    "start_time": "2024-10-31T06:14:43.532Z"
   },
   {
    "duration": 3,
    "start_time": "2024-10-31T06:21:18.374Z"
   },
   {
    "duration": 1433,
    "start_time": "2024-10-31T12:19:40.766Z"
   },
   {
    "duration": 98,
    "start_time": "2024-10-31T12:19:42.201Z"
   },
   {
    "duration": 3,
    "start_time": "2024-10-31T12:19:42.300Z"
   },
   {
    "duration": 26,
    "start_time": "2024-10-31T12:19:42.305Z"
   },
   {
    "duration": 14,
    "start_time": "2024-10-31T12:19:42.333Z"
   },
   {
    "duration": 2,
    "start_time": "2024-10-31T12:19:42.349Z"
   },
   {
    "duration": 18,
    "start_time": "2024-10-31T12:19:42.353Z"
   },
   {
    "duration": 15,
    "start_time": "2024-10-31T12:19:42.372Z"
   },
   {
    "duration": 142,
    "start_time": "2024-10-31T12:19:42.388Z"
   },
   {
    "duration": 11,
    "start_time": "2024-10-31T12:19:42.531Z"
   },
   {
    "duration": 14,
    "start_time": "2024-10-31T12:19:42.544Z"
   },
   {
    "duration": 77,
    "start_time": "2024-10-31T12:19:42.559Z"
   },
   {
    "duration": 10,
    "start_time": "2024-10-31T12:19:42.638Z"
   },
   {
    "duration": 6,
    "start_time": "2024-10-31T12:19:42.650Z"
   },
   {
    "duration": 9,
    "start_time": "2024-10-31T12:19:42.657Z"
   },
   {
    "duration": 825,
    "start_time": "2024-10-31T12:19:42.667Z"
   },
   {
    "duration": 673,
    "start_time": "2024-10-31T12:19:43.494Z"
   },
   {
    "duration": 735,
    "start_time": "2024-10-31T12:19:44.168Z"
   },
   {
    "duration": 752,
    "start_time": "2024-10-31T12:19:44.904Z"
   },
   {
    "duration": 879,
    "start_time": "2024-10-31T12:19:45.658Z"
   },
   {
    "duration": 203,
    "start_time": "2024-10-31T12:19:46.539Z"
   },
   {
    "duration": 14,
    "start_time": "2024-10-31T12:19:46.744Z"
   },
   {
    "duration": 198,
    "start_time": "2024-10-31T12:19:46.760Z"
   },
   {
    "duration": 6,
    "start_time": "2024-10-31T12:19:46.959Z"
   },
   {
    "duration": 19,
    "start_time": "2024-10-31T12:19:46.966Z"
   },
   {
    "duration": 265,
    "start_time": "2024-10-31T12:19:46.987Z"
   },
   {
    "duration": 5,
    "start_time": "2024-10-31T12:19:47.254Z"
   },
   {
    "duration": 8,
    "start_time": "2024-10-31T12:19:47.261Z"
   },
   {
    "duration": 84,
    "start_time": "2024-10-31T12:19:47.271Z"
   },
   {
    "duration": 169,
    "start_time": "2024-10-31T12:19:47.357Z"
   },
   {
    "duration": 8,
    "start_time": "2024-10-31T12:19:47.528Z"
   },
   {
    "duration": 7,
    "start_time": "2024-10-31T12:19:47.552Z"
   },
   {
    "duration": 161,
    "start_time": "2024-10-31T12:21:10.375Z"
   },
   {
    "duration": 12,
    "start_time": "2024-10-31T12:21:14.995Z"
   },
   {
    "duration": 102,
    "start_time": "2024-10-31T12:21:37.727Z"
   },
   {
    "duration": 15,
    "start_time": "2024-10-31T12:22:35.555Z"
   },
   {
    "duration": 8,
    "start_time": "2024-10-31T12:23:02.142Z"
   },
   {
    "duration": 22,
    "start_time": "2024-10-31T12:23:28.300Z"
   },
   {
    "duration": 10,
    "start_time": "2024-10-31T12:26:48.823Z"
   },
   {
    "duration": 5,
    "start_time": "2024-10-31T12:27:07.095Z"
   },
   {
    "duration": 3,
    "start_time": "2024-10-31T12:28:17.599Z"
   },
   {
    "duration": 1247,
    "start_time": "2024-10-31T12:28:28.537Z"
   },
   {
    "duration": 38,
    "start_time": "2024-10-31T12:28:29.786Z"
   },
   {
    "duration": 3,
    "start_time": "2024-10-31T12:28:29.825Z"
   },
   {
    "duration": 32,
    "start_time": "2024-10-31T12:28:29.829Z"
   },
   {
    "duration": 20,
    "start_time": "2024-10-31T12:28:29.863Z"
   },
   {
    "duration": 3,
    "start_time": "2024-10-31T12:28:29.884Z"
   },
   {
    "duration": 11,
    "start_time": "2024-10-31T12:28:29.888Z"
   },
   {
    "duration": 26,
    "start_time": "2024-10-31T12:28:29.900Z"
   },
   {
    "duration": 77,
    "start_time": "2024-10-31T12:28:29.928Z"
   },
   {
    "duration": 12,
    "start_time": "2024-10-31T12:28:30.006Z"
   },
   {
    "duration": 51,
    "start_time": "2024-10-31T12:28:30.019Z"
   },
   {
    "duration": 51,
    "start_time": "2024-10-31T12:28:30.072Z"
   },
   {
    "duration": 13,
    "start_time": "2024-10-31T12:28:30.124Z"
   },
   {
    "duration": 32,
    "start_time": "2024-10-31T12:28:30.141Z"
   },
   {
    "duration": 45,
    "start_time": "2024-10-31T12:28:30.175Z"
   },
   {
    "duration": 751,
    "start_time": "2024-10-31T12:28:30.221Z"
   },
   {
    "duration": 635,
    "start_time": "2024-10-31T12:28:30.974Z"
   },
   {
    "duration": 730,
    "start_time": "2024-10-31T12:28:31.611Z"
   },
   {
    "duration": 741,
    "start_time": "2024-10-31T12:28:32.343Z"
   },
   {
    "duration": 899,
    "start_time": "2024-10-31T12:28:33.086Z"
   },
   {
    "duration": 200,
    "start_time": "2024-10-31T12:28:33.988Z"
   },
   {
    "duration": 10,
    "start_time": "2024-10-31T12:28:34.189Z"
   },
   {
    "duration": 196,
    "start_time": "2024-10-31T12:28:34.200Z"
   },
   {
    "duration": 6,
    "start_time": "2024-10-31T12:28:34.397Z"
   },
   {
    "duration": 28,
    "start_time": "2024-10-31T12:28:34.404Z"
   },
   {
    "duration": 241,
    "start_time": "2024-10-31T12:28:34.434Z"
   },
   {
    "duration": 5,
    "start_time": "2024-10-31T12:28:34.676Z"
   },
   {
    "duration": 17,
    "start_time": "2024-10-31T12:28:34.683Z"
   },
   {
    "duration": 23,
    "start_time": "2024-10-31T12:28:34.702Z"
   },
   {
    "duration": 29,
    "start_time": "2024-10-31T12:28:34.727Z"
   },
   {
    "duration": 283,
    "start_time": "2024-10-31T12:28:34.758Z"
   },
   {
    "duration": 14,
    "start_time": "2024-10-31T12:28:35.043Z"
   },
   {
    "duration": 27,
    "start_time": "2024-10-31T12:28:35.059Z"
   },
   {
    "duration": 5,
    "start_time": "2024-10-31T12:34:56.609Z"
   },
   {
    "duration": 5,
    "start_time": "2024-10-31T12:36:08.374Z"
   },
   {
    "duration": 7,
    "start_time": "2024-10-31T12:36:53.972Z"
   },
   {
    "duration": 6,
    "start_time": "2024-10-31T12:40:11.285Z"
   },
   {
    "duration": 7,
    "start_time": "2024-10-31T12:43:15.834Z"
   },
   {
    "duration": 7,
    "start_time": "2024-10-31T12:43:20.270Z"
   },
   {
    "duration": 5,
    "start_time": "2024-10-31T12:43:22.116Z"
   },
   {
    "duration": 1354,
    "start_time": "2024-10-31T13:02:18.327Z"
   },
   {
    "duration": 39,
    "start_time": "2024-10-31T13:02:19.682Z"
   },
   {
    "duration": 3,
    "start_time": "2024-10-31T13:02:19.722Z"
   },
   {
    "duration": 3,
    "start_time": "2024-10-31T13:02:19.728Z"
   },
   {
    "duration": 15,
    "start_time": "2024-10-31T13:02:19.733Z"
   },
   {
    "duration": 5,
    "start_time": "2024-10-31T13:02:19.750Z"
   },
   {
    "duration": 13,
    "start_time": "2024-10-31T13:02:19.756Z"
   },
   {
    "duration": 64,
    "start_time": "2024-10-31T13:02:19.771Z"
   },
   {
    "duration": 47,
    "start_time": "2024-10-31T13:02:19.837Z"
   },
   {
    "duration": 11,
    "start_time": "2024-10-31T13:02:19.887Z"
   },
   {
    "duration": 9,
    "start_time": "2024-10-31T13:02:19.900Z"
   },
   {
    "duration": 23,
    "start_time": "2024-10-31T13:02:19.911Z"
   },
   {
    "duration": 10,
    "start_time": "2024-10-31T13:02:19.936Z"
   },
   {
    "duration": 6,
    "start_time": "2024-10-31T13:02:19.948Z"
   },
   {
    "duration": 10,
    "start_time": "2024-10-31T13:02:19.956Z"
   },
   {
    "duration": 797,
    "start_time": "2024-10-31T13:02:19.968Z"
   },
   {
    "duration": 646,
    "start_time": "2024-10-31T13:02:20.767Z"
   },
   {
    "duration": 735,
    "start_time": "2024-10-31T13:02:21.415Z"
   },
   {
    "duration": 735,
    "start_time": "2024-10-31T13:02:22.152Z"
   },
   {
    "duration": 867,
    "start_time": "2024-10-31T13:02:22.889Z"
   },
   {
    "duration": 268,
    "start_time": "2024-10-31T13:02:23.758Z"
   },
   {
    "duration": 11,
    "start_time": "2024-10-31T13:02:24.029Z"
   },
   {
    "duration": 208,
    "start_time": "2024-10-31T13:02:24.053Z"
   },
   {
    "duration": 7,
    "start_time": "2024-10-31T13:02:24.262Z"
   },
   {
    "duration": 55,
    "start_time": "2024-10-31T13:02:24.270Z"
   },
   {
    "duration": 238,
    "start_time": "2024-10-31T13:02:24.326Z"
   },
   {
    "duration": 6,
    "start_time": "2024-10-31T13:02:24.566Z"
   },
   {
    "duration": 9,
    "start_time": "2024-10-31T13:02:24.575Z"
   },
   {
    "duration": 11,
    "start_time": "2024-10-31T13:02:24.585Z"
   },
   {
    "duration": 6,
    "start_time": "2024-10-31T13:02:24.597Z"
   },
   {
    "duration": 96,
    "start_time": "2024-10-31T13:02:24.605Z"
   },
   {
    "duration": 167,
    "start_time": "2024-10-31T13:02:24.703Z"
   },
   {
    "duration": 6,
    "start_time": "2024-10-31T13:02:24.872Z"
   },
   {
    "duration": 24,
    "start_time": "2024-10-31T13:02:24.879Z"
   },
   {
    "duration": 27,
    "start_time": "2024-10-31T13:02:24.905Z"
   },
   {
    "duration": 70,
    "start_time": "2024-10-31T13:02:24.933Z"
   },
   {
    "duration": 1253,
    "start_time": "2024-11-01T06:41:07.008Z"
   },
   {
    "duration": 77,
    "start_time": "2024-11-01T06:41:08.263Z"
   },
   {
    "duration": 3,
    "start_time": "2024-11-01T06:41:08.341Z"
   },
   {
    "duration": 15,
    "start_time": "2024-11-01T06:41:08.346Z"
   },
   {
    "duration": 17,
    "start_time": "2024-11-01T06:41:08.363Z"
   },
   {
    "duration": 3,
    "start_time": "2024-11-01T06:41:08.382Z"
   },
   {
    "duration": 14,
    "start_time": "2024-11-01T06:41:08.387Z"
   },
   {
    "duration": 43,
    "start_time": "2024-11-01T06:41:08.402Z"
   },
   {
    "duration": 119,
    "start_time": "2024-11-01T06:41:08.447Z"
   },
   {
    "duration": 11,
    "start_time": "2024-11-01T06:41:08.568Z"
   },
   {
    "duration": 15,
    "start_time": "2024-11-01T06:41:08.580Z"
   },
   {
    "duration": 73,
    "start_time": "2024-11-01T06:41:08.597Z"
   },
   {
    "duration": 10,
    "start_time": "2024-11-01T06:41:08.672Z"
   },
   {
    "duration": 7,
    "start_time": "2024-11-01T06:41:08.684Z"
   },
   {
    "duration": 13,
    "start_time": "2024-11-01T06:41:08.692Z"
   },
   {
    "duration": 746,
    "start_time": "2024-11-01T06:41:08.707Z"
   },
   {
    "duration": 673,
    "start_time": "2024-11-01T06:41:09.455Z"
   },
   {
    "duration": 707,
    "start_time": "2024-11-01T06:41:10.130Z"
   },
   {
    "duration": 715,
    "start_time": "2024-11-01T06:41:10.840Z"
   },
   {
    "duration": 880,
    "start_time": "2024-11-01T06:41:11.557Z"
   },
   {
    "duration": 201,
    "start_time": "2024-11-01T06:41:12.439Z"
   },
   {
    "duration": 9,
    "start_time": "2024-11-01T06:41:12.641Z"
   },
   {
    "duration": 199,
    "start_time": "2024-11-01T06:41:12.651Z"
   },
   {
    "duration": 6,
    "start_time": "2024-11-01T06:41:12.852Z"
   },
   {
    "duration": 104,
    "start_time": "2024-11-01T06:41:12.859Z"
   },
   {
    "duration": 237,
    "start_time": "2024-11-01T06:41:12.964Z"
   },
   {
    "duration": 18,
    "start_time": "2024-11-01T06:41:13.203Z"
   },
   {
    "duration": 17,
    "start_time": "2024-11-01T06:41:13.225Z"
   },
   {
    "duration": 18,
    "start_time": "2024-11-01T06:41:13.244Z"
   },
   {
    "duration": 44,
    "start_time": "2024-11-01T06:41:13.264Z"
   },
   {
    "duration": 59,
    "start_time": "2024-11-01T06:41:13.310Z"
   },
   {
    "duration": 233,
    "start_time": "2024-11-01T06:41:13.371Z"
   },
   {
    "duration": 5,
    "start_time": "2024-11-01T06:41:13.605Z"
   },
   {
    "duration": 85,
    "start_time": "2024-11-01T06:41:13.612Z"
   },
   {
    "duration": 9,
    "start_time": "2024-11-01T06:41:13.699Z"
   },
   {
    "duration": 26,
    "start_time": "2024-11-01T06:41:13.710Z"
   }
  ],
  "kernelspec": {
   "display_name": "Python 3 (ipykernel)",
   "language": "python",
   "name": "python3"
  },
  "language_info": {
   "codemirror_mode": {
    "name": "ipython",
    "version": 3
   },
   "file_extension": ".py",
   "mimetype": "text/x-python",
   "name": "python",
   "nbconvert_exporter": "python",
   "pygments_lexer": "ipython3",
   "version": "3.9.7"
  },
  "toc": {
   "base_numbering": 1,
   "nav_menu": {},
   "number_sections": true,
   "sideBar": true,
   "skip_h1_title": true,
   "title_cell": "Table of Contents",
   "title_sidebar": "Contents",
   "toc_cell": false,
   "toc_position": {
    "height": "calc(100% - 180px)",
    "left": "10px",
    "top": "150px",
    "width": "345.594px"
   },
   "toc_section_display": true,
   "toc_window_display": true
  }
 },
 "nbformat": 4,
 "nbformat_minor": 2
}
